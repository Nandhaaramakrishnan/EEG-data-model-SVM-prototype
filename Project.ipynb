{
 "cells": [
  {
   "cell_type": "code",
   "execution_count": 1,
   "metadata": {
    "colab": {
     "base_uri": "https://localhost:8080/"
    },
    "id": "N1QnLH4g_CJY",
    "outputId": "c6c4c08f-de24-4bba-f96f-4af7b47f7e4d"
   },
   "outputs": [
    {
     "name": "stdout",
     "output_type": "stream",
     "text": [
      "Drive already mounted at /content/drive; to attempt to forcibly remount, call drive.mount(\"/content/drive\", force_remount=True).\n"
     ]
    }
   ],
   "source": [
    "from google.colab import drive\n",
    "drive.mount('/content/drive')"
   ]
  },
  {
   "cell_type": "code",
   "execution_count": 3,
   "metadata": {
    "colab": {
     "base_uri": "https://localhost:8080/"
    },
    "id": "GlqYkgWRRcsc",
    "outputId": "7239f6c7-5049-4c4d-8526-fe702d3df822"
   },
   "outputs": [
    {
     "name": "stdout",
     "output_type": "stream",
     "text": [
      "Collecting mne\n",
      "  Downloading mne-1.0.3-py3-none-any.whl (7.5 MB)\n",
      "\u001b[K     |████████████████████████████████| 7.5 MB 26.2 MB/s \n",
      "\u001b[?25hRequirement already satisfied: numpy>=1.15.4 in /usr/local/lib/python3.7/dist-packages (from mne) (1.21.6)\n",
      "Requirement already satisfied: tqdm in /usr/local/lib/python3.7/dist-packages (from mne) (4.64.0)\n",
      "Requirement already satisfied: decorator in /usr/local/lib/python3.7/dist-packages (from mne) (4.4.2)\n",
      "Requirement already satisfied: packaging in /usr/local/lib/python3.7/dist-packages (from mne) (21.3)\n",
      "Requirement already satisfied: scipy>=1.1.0 in /usr/local/lib/python3.7/dist-packages (from mne) (1.4.1)\n",
      "Requirement already satisfied: jinja2 in /usr/local/lib/python3.7/dist-packages (from mne) (2.11.3)\n",
      "Requirement already satisfied: matplotlib in /usr/local/lib/python3.7/dist-packages (from mne) (3.2.2)\n",
      "Requirement already satisfied: pooch>=1.5 in /usr/local/lib/python3.7/dist-packages (from mne) (1.6.0)\n",
      "Requirement already satisfied: appdirs>=1.3.0 in /usr/local/lib/python3.7/dist-packages (from pooch>=1.5->mne) (1.4.4)\n",
      "Requirement already satisfied: requests>=2.19.0 in /usr/local/lib/python3.7/dist-packages (from pooch>=1.5->mne) (2.23.0)\n",
      "Requirement already satisfied: pyparsing!=3.0.5,>=2.0.2 in /usr/local/lib/python3.7/dist-packages (from packaging->mne) (3.0.9)\n",
      "Requirement already satisfied: urllib3!=1.25.0,!=1.25.1,<1.26,>=1.21.1 in /usr/local/lib/python3.7/dist-packages (from requests>=2.19.0->pooch>=1.5->mne) (1.24.3)\n",
      "Requirement already satisfied: certifi>=2017.4.17 in /usr/local/lib/python3.7/dist-packages (from requests>=2.19.0->pooch>=1.5->mne) (2021.10.8)\n",
      "Requirement already satisfied: chardet<4,>=3.0.2 in /usr/local/lib/python3.7/dist-packages (from requests>=2.19.0->pooch>=1.5->mne) (3.0.4)\n",
      "Requirement already satisfied: idna<3,>=2.5 in /usr/local/lib/python3.7/dist-packages (from requests>=2.19.0->pooch>=1.5->mne) (2.10)\n",
      "Requirement already satisfied: MarkupSafe>=0.23 in /usr/local/lib/python3.7/dist-packages (from jinja2->mne) (2.0.1)\n",
      "Requirement already satisfied: kiwisolver>=1.0.1 in /usr/local/lib/python3.7/dist-packages (from matplotlib->mne) (1.4.2)\n",
      "Requirement already satisfied: cycler>=0.10 in /usr/local/lib/python3.7/dist-packages (from matplotlib->mne) (0.11.0)\n",
      "Requirement already satisfied: python-dateutil>=2.1 in /usr/local/lib/python3.7/dist-packages (from matplotlib->mne) (2.8.2)\n",
      "Requirement already satisfied: typing-extensions in /usr/local/lib/python3.7/dist-packages (from kiwisolver>=1.0.1->matplotlib->mne) (4.2.0)\n",
      "Requirement already satisfied: six>=1.5 in /usr/local/lib/python3.7/dist-packages (from python-dateutil>=2.1->matplotlib->mne) (1.15.0)\n",
      "Installing collected packages: mne\n",
      "Successfully installed mne-1.0.3\n"
     ]
    }
   ],
   "source": [
    "!pip install mne"
   ]
  },
  {
   "cell_type": "code",
   "execution_count": 4,
   "metadata": {
    "colab": {
     "base_uri": "https://localhost:8080/"
    },
    "id": "q0yiFppoQxtu",
    "outputId": "cc9c1941-32f7-40d4-c2b2-0df2c9e1b4a4"
   },
   "outputs": [
    {
     "name": "stdout",
     "output_type": "stream",
     "text": [
      "Extracting EDF parameters from /content/drive/My Drive/files/S001/S001R14.edf...\n",
      "EDF file detected\n",
      "Setting channel info structure...\n",
      "Creating raw.info structure...\n"
     ]
    }
   ],
   "source": [
    "import numpy as np\n",
    "import mne\n",
    "edf = mne.io.read_raw_edf('/content/drive/My Drive/files/S001/S001R14.edf')\n",
    "header = ','.join(edf.ch_names)\n",
    "np.savetxt('/content/drive/My Drive/S001R14.csv', edf.get_data().T, delimiter=',', header=header)"
   ]
  },
  {
   "cell_type": "code",
   "execution_count": 4,
   "metadata": {},
   "outputs": [
    {
     "name": "stdout",
     "output_type": "stream",
     "text": [
      "Collecting pandas\n",
      "  Downloading pandas-1.4.2-cp310-cp310-macosx_11_0_arm64.whl (10.1 MB)\n",
      "\u001b[K     |████████████████████████████████| 10.1 MB 2.4 MB/s eta 0:00:01\n",
      "\u001b[?25hRequirement already satisfied: numpy>=1.21.0 in /Library/Frameworks/Python.framework/Versions/3.10/lib/python3.10/site-packages (from pandas) (1.22.3)\n",
      "Collecting pytz>=2020.1\n",
      "  Downloading pytz-2022.1-py2.py3-none-any.whl (503 kB)\n",
      "\u001b[K     |████████████████████████████████| 503 kB 42.0 MB/s eta 0:00:01\n",
      "\u001b[?25hRequirement already satisfied: python-dateutil>=2.8.1 in /Library/Frameworks/Python.framework/Versions/3.10/lib/python3.10/site-packages (from pandas) (2.8.2)\n",
      "Requirement already satisfied: six>=1.5 in /Library/Frameworks/Python.framework/Versions/3.10/lib/python3.10/site-packages (from python-dateutil>=2.8.1->pandas) (1.16.0)\n",
      "Installing collected packages: pytz, pandas\n",
      "Successfully installed pandas-1.4.2 pytz-2022.1\n",
      "\u001b[33mWARNING: You are using pip version 21.2.4; however, version 22.1.1 is available.\n",
      "You should consider upgrading via the '/Library/Frameworks/Python.framework/Versions/3.10/bin/python3.10 -m pip install --upgrade pip' command.\u001b[0m\n",
      "Note: you may need to restart the kernel to use updated packages.\n"
     ]
    }
   ],
   "source": [
    "pip install pandas"
   ]
  },
  {
   "cell_type": "code",
   "execution_count": 13,
   "metadata": {},
   "outputs": [
    {
     "name": "stdout",
     "output_type": "stream",
     "text": [
      "Requirement already satisfied: numpy in /Library/Frameworks/Python.framework/Versions/3.10/lib/python3.10/site-packages (1.22.3)\n",
      "\u001b[33mWARNING: You are using pip version 21.2.4; however, version 22.1.1 is available.\n",
      "You should consider upgrading via the '/Library/Frameworks/Python.framework/Versions/3.10/bin/python3.10 -m pip install --upgrade pip' command.\u001b[0m\n",
      "Note: you may need to restart the kernel to use updated packages.\n"
     ]
    }
   ],
   "source": [
    "pip install numpy"
   ]
  },
  {
   "cell_type": "code",
   "execution_count": 15,
   "metadata": {},
   "outputs": [
    {
     "name": "stdout",
     "output_type": "stream",
     "text": [
      "Collecting PyWavelets\n",
      "  Downloading PyWavelets-1.3.0-cp310-cp310-macosx_11_0_arm64.whl (4.3 MB)\n",
      "\u001b[K     |████████████████████████████████| 4.3 MB 2.1 MB/s eta 0:00:01\n",
      "\u001b[?25hRequirement already satisfied: numpy>=1.17.3 in /Library/Frameworks/Python.framework/Versions/3.10/lib/python3.10/site-packages (from PyWavelets) (1.22.3)\n",
      "Installing collected packages: PyWavelets\n",
      "Successfully installed PyWavelets-1.3.0\n",
      "\u001b[33mWARNING: You are using pip version 21.2.4; however, version 22.1.1 is available.\n",
      "You should consider upgrading via the '/Library/Frameworks/Python.framework/Versions/3.10/bin/python3.10 -m pip install --upgrade pip' command.\u001b[0m\n",
      "Note: you may need to restart the kernel to use updated packages.\n"
     ]
    }
   ],
   "source": [
    "pip install PyWavelets"
   ]
  },
  {
   "cell_type": "code",
   "execution_count": 19,
   "metadata": {},
   "outputs": [
    {
     "name": "stdout",
     "output_type": "stream",
     "text": [
      "Collecting matplotlib\n",
      "  Downloading matplotlib-3.5.2-cp310-cp310-macosx_11_0_arm64.whl (7.2 MB)\n",
      "\u001b[K     |████████████████████████████████| 7.2 MB 3.0 MB/s eta 0:00:01\n",
      "\u001b[?25hRequirement already satisfied: packaging>=20.0 in /Library/Frameworks/Python.framework/Versions/3.10/lib/python3.10/site-packages (from matplotlib) (21.3)\n",
      "Collecting kiwisolver>=1.0.1\n",
      "  Downloading kiwisolver-1.4.2-cp310-cp310-macosx_11_0_arm64.whl (63 kB)\n",
      "\u001b[K     |████████████████████████████████| 63 kB 9.7 MB/s  eta 0:00:01\n",
      "\u001b[?25hCollecting cycler>=0.10\n",
      "  Downloading cycler-0.11.0-py3-none-any.whl (6.4 kB)\n",
      "Collecting pillow>=6.2.0\n",
      "  Downloading Pillow-9.1.1-cp310-cp310-macosx_11_0_arm64.whl (2.8 MB)\n",
      "\u001b[K     |████████████████████████████████| 2.8 MB 116.2 MB/s eta 0:00:01\n",
      "\u001b[?25hRequirement already satisfied: numpy>=1.17 in /Library/Frameworks/Python.framework/Versions/3.10/lib/python3.10/site-packages (from matplotlib) (1.22.3)\n",
      "Requirement already satisfied: python-dateutil>=2.7 in /Library/Frameworks/Python.framework/Versions/3.10/lib/python3.10/site-packages (from matplotlib) (2.8.2)\n",
      "Requirement already satisfied: pyparsing>=2.2.1 in /Library/Frameworks/Python.framework/Versions/3.10/lib/python3.10/site-packages (from matplotlib) (3.0.7)\n",
      "Collecting fonttools>=4.22.0\n",
      "  Downloading fonttools-4.33.3-py3-none-any.whl (930 kB)\n",
      "\u001b[K     |████████████████████████████████| 930 kB 25.5 MB/s eta 0:00:01\n",
      "\u001b[?25hRequirement already satisfied: six>=1.5 in /Library/Frameworks/Python.framework/Versions/3.10/lib/python3.10/site-packages (from python-dateutil>=2.7->matplotlib) (1.16.0)\n",
      "Installing collected packages: pillow, kiwisolver, fonttools, cycler, matplotlib\n",
      "Successfully installed cycler-0.11.0 fonttools-4.33.3 kiwisolver-1.4.2 matplotlib-3.5.2 pillow-9.1.1\n",
      "\u001b[33mWARNING: You are using pip version 21.2.4; however, version 22.1.1 is available.\n",
      "You should consider upgrading via the '/Library/Frameworks/Python.framework/Versions/3.10/bin/python3.10 -m pip install --upgrade pip' command.\u001b[0m\n",
      "Note: you may need to restart the kernel to use updated packages.\n"
     ]
    }
   ],
   "source": [
    "pip install matplotlib"
   ]
  },
  {
   "cell_type": "code",
   "execution_count": 1,
   "metadata": {
    "id": "kETsuCPQSM9H"
   },
   "outputs": [],
   "source": [
    "import pandas as pd \n",
    "\n",
    "def csv_conversion(file, annotated_file, result):\n",
    "    df1=pd.read_csv('sample_1/'+file)\n",
    "    df2=pd.read_csv('sample_1/'+annotated_file)\n",
    "    main_df_length = len(df1)\n",
    "    annotated_df_length = len(df2)\n",
    "    annotation_complete = main_df_length // annotated_df_length\n",
    "    annotation_remaining = main_df_length % annotated_df_length\n",
    "    if annotation_remaining:\n",
    "        df1.drop(df1.tail(annotation_remaining).index,\n",
    "                inplace = True)\n",
    "    df1[\"Annotation\"] = df1[\"Fc3.\"]\n",
    "    k = 0\n",
    "    while k<(annotation_complete*annotated_df_length): #k<19980\n",
    "        for i in range(annotated_df_length): # i = 0 to 29\n",
    "            for j in range(k,k+annotation_complete): # j = 0 to 665\n",
    "                df1[\"Annotation\"][j] = df2[\"Annotations\"][i]\n",
    "            k+=annotation_complete # k = 666\n",
    "    df1.to_csv(result, index=False)"
   ]
  },
  {
   "cell_type": "code",
   "execution_count": null,
   "metadata": {
    "id": "WYMLHwG1g74p"
   },
   "outputs": [],
   "source": [
    "csv_conversion(\"S001R01.csv\", \"SOO1R01_annotation.csv\", \"S001R01_final.csv\")\n",
    "csv_conversion(\"S001R02.csv\", \"SOO1R02_annotation.csv\", \"S001R02_final.csv\")\n",
    "csv_conversion(\"S001R03.csv\", \"SOO1R03_annotation.csv\", \"S001R03_final.csv\")\n",
    "csv_conversion(\"S001R04.csv\", \"SOO1R04_annotation.csv\", \"S001R04_final.csv\")\n",
    "csv_conversion(\"S001R05.csv\", \"SOO1R05_annotation.csv\", \"S001R05_final.csv\")\n",
    "csv_conversion(\"S001R06.csv\", \"SOO1R06_annotation.csv\", \"S001R06_final.csv\")\n",
    "csv_conversion(\"S001R07.csv\", \"SOO1R07_annotation.csv\", \"S001R07_final.csv\")\n",
    "csv_conversion(\"S001R08.csv\", \"SOO1R08_annotation.csv\", \"S001R08_final.csv\")\n",
    "csv_conversion(\"S001R09.csv\", \"SOO1R09_annotation.csv\", \"S001R09_final.csv\")\n",
    "csv_conversion(\"S001R10.csv\", \"SOO1R10_annotation.csv\", \"S001R10_final.csv\")\n",
    "csv_conversion(\"S001R11.csv\", \"SOO1R11_annotation.csv\", \"S001R11_final.csv\")\n",
    "csv_conversion(\"S001R12.csv\", \"SOO1R12_annotation.csv\", \"S001R12_final.csv\")\n",
    "csv_conversion(\"S001R13.csv\", \"SOO1R13_annotation.csv\", \"S001R13_final.csv\")\n",
    "csv_conversion(\"S001R14.csv\", \"SOO1R14_annotation.csv\", \"S001R14_final.csv\")"
   ]
  },
  {
   "cell_type": "code",
   "execution_count": 2,
   "metadata": {
    "id": "HEua6Xnegdzq"
   },
   "outputs": [],
   "source": [
    "df=pd.read_csv('S001R01_final.csv')"
   ]
  },
  {
   "cell_type": "code",
   "execution_count": 3,
   "metadata": {
    "colab": {
     "base_uri": "https://localhost:8080/",
     "height": 300
    },
    "id": "xaHk6204gqjz",
    "outputId": "4e3ea54f-5aa6-43ba-e7c7-96a497e70490"
   },
   "outputs": [
    {
     "data": {
      "text/html": [
       "<div>\n",
       "<style scoped>\n",
       "    .dataframe tbody tr th:only-of-type {\n",
       "        vertical-align: middle;\n",
       "    }\n",
       "\n",
       "    .dataframe tbody tr th {\n",
       "        vertical-align: top;\n",
       "    }\n",
       "\n",
       "    .dataframe thead th {\n",
       "        text-align: right;\n",
       "    }\n",
       "</style>\n",
       "<table border=\"1\" class=\"dataframe\">\n",
       "  <thead>\n",
       "    <tr style=\"text-align: right;\">\n",
       "      <th></th>\n",
       "      <th># Fc5.</th>\n",
       "      <th>Fc3.</th>\n",
       "      <th>Fc1.</th>\n",
       "      <th>Fcz.</th>\n",
       "      <th>Fc2.</th>\n",
       "      <th>Fc4.</th>\n",
       "      <th>Fc6.</th>\n",
       "      <th>C5..</th>\n",
       "      <th>C3..</th>\n",
       "      <th>C1..</th>\n",
       "      <th>...</th>\n",
       "      <th>Po7.</th>\n",
       "      <th>Po3.</th>\n",
       "      <th>Poz.</th>\n",
       "      <th>Po4.</th>\n",
       "      <th>Po8.</th>\n",
       "      <th>O1..</th>\n",
       "      <th>Oz..</th>\n",
       "      <th>O2..</th>\n",
       "      <th>Iz..</th>\n",
       "      <th>Annotation</th>\n",
       "    </tr>\n",
       "  </thead>\n",
       "  <tbody>\n",
       "    <tr>\n",
       "      <th>0</th>\n",
       "      <td>-0.000016</td>\n",
       "      <td>-0.000029</td>\n",
       "      <td>0.000002</td>\n",
       "      <td>0.000022</td>\n",
       "      <td>-0.000012</td>\n",
       "      <td>-0.000023</td>\n",
       "      <td>-0.000046</td>\n",
       "      <td>-0.000036</td>\n",
       "      <td>-0.000026</td>\n",
       "      <td>-0.000018</td>\n",
       "      <td>...</td>\n",
       "      <td>-0.000056</td>\n",
       "      <td>-0.000052</td>\n",
       "      <td>-0.000035</td>\n",
       "      <td>-0.000022</td>\n",
       "      <td>-0.000033</td>\n",
       "      <td>-0.000053</td>\n",
       "      <td>-0.000021</td>\n",
       "      <td>-0.000011</td>\n",
       "      <td>0.000015</td>\n",
       "      <td>T0</td>\n",
       "    </tr>\n",
       "    <tr>\n",
       "      <th>1</th>\n",
       "      <td>-0.000056</td>\n",
       "      <td>-0.000054</td>\n",
       "      <td>-0.000027</td>\n",
       "      <td>-0.000004</td>\n",
       "      <td>-0.000031</td>\n",
       "      <td>-0.000036</td>\n",
       "      <td>-0.000056</td>\n",
       "      <td>-0.000075</td>\n",
       "      <td>-0.000055</td>\n",
       "      <td>-0.000043</td>\n",
       "      <td>...</td>\n",
       "      <td>-0.000035</td>\n",
       "      <td>-0.000029</td>\n",
       "      <td>-0.000018</td>\n",
       "      <td>-0.000003</td>\n",
       "      <td>-0.000009</td>\n",
       "      <td>-0.000053</td>\n",
       "      <td>-0.000012</td>\n",
       "      <td>0.000001</td>\n",
       "      <td>0.000021</td>\n",
       "      <td>T0</td>\n",
       "    </tr>\n",
       "    <tr>\n",
       "      <th>2</th>\n",
       "      <td>-0.000055</td>\n",
       "      <td>-0.000055</td>\n",
       "      <td>-0.000029</td>\n",
       "      <td>-0.000005</td>\n",
       "      <td>-0.000029</td>\n",
       "      <td>-0.000034</td>\n",
       "      <td>-0.000052</td>\n",
       "      <td>-0.000053</td>\n",
       "      <td>-0.000042</td>\n",
       "      <td>-0.000035</td>\n",
       "      <td>...</td>\n",
       "      <td>-0.000023</td>\n",
       "      <td>-0.000012</td>\n",
       "      <td>-0.000006</td>\n",
       "      <td>0.000004</td>\n",
       "      <td>-0.000007</td>\n",
       "      <td>-0.000045</td>\n",
       "      <td>0.000002</td>\n",
       "      <td>0.000018</td>\n",
       "      <td>0.000035</td>\n",
       "      <td>T0</td>\n",
       "    </tr>\n",
       "    <tr>\n",
       "      <th>3</th>\n",
       "      <td>-0.000050</td>\n",
       "      <td>-0.000044</td>\n",
       "      <td>-0.000013</td>\n",
       "      <td>0.000013</td>\n",
       "      <td>-0.000016</td>\n",
       "      <td>-0.000025</td>\n",
       "      <td>-0.000045</td>\n",
       "      <td>-0.000044</td>\n",
       "      <td>-0.000021</td>\n",
       "      <td>-0.000011</td>\n",
       "      <td>...</td>\n",
       "      <td>-0.000012</td>\n",
       "      <td>0.000004</td>\n",
       "      <td>0.000014</td>\n",
       "      <td>0.000020</td>\n",
       "      <td>0.000007</td>\n",
       "      <td>-0.000029</td>\n",
       "      <td>0.000016</td>\n",
       "      <td>0.000035</td>\n",
       "      <td>0.000047</td>\n",
       "      <td>T0</td>\n",
       "    </tr>\n",
       "    <tr>\n",
       "      <th>4</th>\n",
       "      <td>-0.000036</td>\n",
       "      <td>-0.000028</td>\n",
       "      <td>0.000013</td>\n",
       "      <td>0.000042</td>\n",
       "      <td>0.000009</td>\n",
       "      <td>-0.000010</td>\n",
       "      <td>-0.000046</td>\n",
       "      <td>-0.000034</td>\n",
       "      <td>-0.000012</td>\n",
       "      <td>0.000008</td>\n",
       "      <td>...</td>\n",
       "      <td>-0.000007</td>\n",
       "      <td>0.000006</td>\n",
       "      <td>0.000020</td>\n",
       "      <td>0.000024</td>\n",
       "      <td>0.000006</td>\n",
       "      <td>-0.000013</td>\n",
       "      <td>0.000029</td>\n",
       "      <td>0.000040</td>\n",
       "      <td>0.000050</td>\n",
       "      <td>T0</td>\n",
       "    </tr>\n",
       "  </tbody>\n",
       "</table>\n",
       "<p>5 rows × 65 columns</p>\n",
       "</div>"
      ],
      "text/plain": [
       "     # Fc5.      Fc3.      Fc1.      Fcz.      Fc2.      Fc4.      Fc6.  \\\n",
       "0 -0.000016 -0.000029  0.000002  0.000022 -0.000012 -0.000023 -0.000046   \n",
       "1 -0.000056 -0.000054 -0.000027 -0.000004 -0.000031 -0.000036 -0.000056   \n",
       "2 -0.000055 -0.000055 -0.000029 -0.000005 -0.000029 -0.000034 -0.000052   \n",
       "3 -0.000050 -0.000044 -0.000013  0.000013 -0.000016 -0.000025 -0.000045   \n",
       "4 -0.000036 -0.000028  0.000013  0.000042  0.000009 -0.000010 -0.000046   \n",
       "\n",
       "       C5..      C3..      C1..  ...      Po7.      Po3.      Poz.      Po4.  \\\n",
       "0 -0.000036 -0.000026 -0.000018  ... -0.000056 -0.000052 -0.000035 -0.000022   \n",
       "1 -0.000075 -0.000055 -0.000043  ... -0.000035 -0.000029 -0.000018 -0.000003   \n",
       "2 -0.000053 -0.000042 -0.000035  ... -0.000023 -0.000012 -0.000006  0.000004   \n",
       "3 -0.000044 -0.000021 -0.000011  ... -0.000012  0.000004  0.000014  0.000020   \n",
       "4 -0.000034 -0.000012  0.000008  ... -0.000007  0.000006  0.000020  0.000024   \n",
       "\n",
       "       Po8.      O1..      Oz..      O2..      Iz..  Annotation  \n",
       "0 -0.000033 -0.000053 -0.000021 -0.000011  0.000015          T0  \n",
       "1 -0.000009 -0.000053 -0.000012  0.000001  0.000021          T0  \n",
       "2 -0.000007 -0.000045  0.000002  0.000018  0.000035          T0  \n",
       "3  0.000007 -0.000029  0.000016  0.000035  0.000047          T0  \n",
       "4  0.000006 -0.000013  0.000029  0.000040  0.000050          T0  \n",
       "\n",
       "[5 rows x 65 columns]"
      ]
     },
     "execution_count": 3,
     "metadata": {},
     "output_type": "execute_result"
    }
   ],
   "source": [
    "df.head()"
   ]
  },
  {
   "cell_type": "code",
   "execution_count": 4,
   "metadata": {
    "colab": {
     "base_uri": "https://localhost:8080/"
    },
    "id": "7MMqPEzhgtLA",
    "outputId": "d9620845-6617-4751-baed-8094ee6b2a56"
   },
   "outputs": [
    {
     "data": {
      "text/plain": [
       "T0    9760\n",
       "Name: Annotation, dtype: int64"
      ]
     },
     "execution_count": 4,
     "metadata": {},
     "output_type": "execute_result"
    }
   ],
   "source": [
    "df[\"Annotation\"].value_counts()"
   ]
  },
  {
   "cell_type": "code",
   "execution_count": 5,
   "metadata": {
    "id": "JuklqSiJz9s8"
   },
   "outputs": [],
   "source": [
    "import glob\n",
    "import os\n",
    "\n",
    "# setting the path for joining multiple files\n",
    "files = os.path.join(\"S001R*.csv\")\n",
    "# list of merged files returned\n",
    "files = glob.glob(files)\n",
    "# joining files with concat and read_csv\n",
    "df = pd.concat(map(pd.read_csv, files), ignore_index=True)"
   ]
  },
  {
   "cell_type": "code",
   "execution_count": 6,
   "metadata": {
    "colab": {
     "base_uri": "https://localhost:8080/"
    },
    "id": "8-KuVY0g1WC2",
    "outputId": "bc41ebbd-6ec8-4b80-ee08-c967bff31093"
   },
   "outputs": [
    {
     "data": {
      "text/plain": [
       "T0    139400\n",
       "T2     59940\n",
       "T1     59940\n",
       "Name: Annotation, dtype: int64"
      ]
     },
     "execution_count": 6,
     "metadata": {},
     "output_type": "execute_result"
    }
   ],
   "source": [
    "df[\"Annotation\"].value_counts()"
   ]
  },
  {
   "cell_type": "code",
   "execution_count": 7,
   "metadata": {
    "id": "QLQ5xwMr1mfT"
   },
   "outputs": [],
   "source": [
    "#Denoising using wavelet transform\n",
    "import pywt\n",
    "import numpy as np\n",
    "def wavelet_denoising(x, wavelet='db2', level=3):\n",
    "    coeff = pywt.wavedec(x, wavelet, mode=\"per\")\n",
    "    sigma = (1/0.6745) * madev(coeff[-level])\n",
    "    uthresh = sigma * np.sqrt(2 * np.log(len(x)))\n",
    "    coeff[1:] = (pywt.threshold(i, value=uthresh, mode='hard') for i in coeff[1:])\n",
    "    return pywt.waverec(coeff, wavelet, mode='per')\n",
    "def madev(d, axis=None):\n",
    "    \"\"\" Mean absolute deviation of a signal \"\"\"\n",
    "    return np.mean(np.absolute(d - np.mean(d, axis)), axis)"
   ]
  },
  {
   "cell_type": "code",
   "execution_count": 8,
   "metadata": {
    "colab": {
     "base_uri": "https://localhost:8080/",
     "height": 336
    },
    "id": "Qzj1xtyec7yB",
    "outputId": "fb4d1cd4-c103-41fe-82ef-f30de7f9a7d6"
   },
   "outputs": [
    {
     "data": {
      "image/png": "[encoded data removed]",
      "text/plain": [
       "<Figure size 576x360 with 1 Axes>"
      ]
     },
     "metadata": {
      "needs_background": "light"
     },
     "output_type": "display_data"
    }
   ],
   "source": [
    "signal = df\n",
    "signal = signal.drop(\"Annotation\", axis=1)\n",
    "filtered = wavelet_denoising(signal, wavelet='db2', level=3)\n",
    "import matplotlib.pyplot as plt\n",
    "fig, ax = plt.subplots(figsize=(8,5))\n",
    "ax.plot(signal.iloc[:10000,1], label='signal', color=\"b\", alpha=0.5,)\n",
    "ax.plot(filtered[:10000,1], label='reconstructed signal',color=\"k\")\n",
    "ax.legend(loc='upper left')\n",
    "ax.set_title('Denoising with DWT')\n",
    "plt.show()"
   ]
  },
  {
   "cell_type": "code",
   "execution_count": 9,
   "metadata": {
    "colab": {
     "base_uri": "https://localhost:8080/"
    },
    "id": "xp-HVarZds73",
    "outputId": "4ee03288-04ad-48e7-9641-72be6bf84c54"
   },
   "outputs": [
    {
     "data": {
      "text/plain": [
       "array([[2.25202116e-05, 1.85372575e-05, 1.57372972e-05, ...,\n",
       "        2.12709340e-05, 2.16290921e-05, 2.20881729e-05],\n",
       "       [3.41962107e-05, 3.42935082e-05, 3.44379860e-05, ...,\n",
       "        3.34142836e-05, 3.36274004e-05, 3.39228339e-05],\n",
       "       [4.72517981e-05, 4.29757638e-05, 4.01608628e-05, ...,\n",
       "        4.37407482e-05, 4.48863196e-05, 4.60748087e-05],\n",
       "       ...,\n",
       "       [0.00000000e+00, 0.00000000e+00, 0.00000000e+00, ...,\n",
       "        0.00000000e+00, 0.00000000e+00, 0.00000000e+00],\n",
       "       [0.00000000e+00, 0.00000000e+00, 0.00000000e+00, ...,\n",
       "        0.00000000e+00, 0.00000000e+00, 0.00000000e+00],\n",
       "       [0.00000000e+00, 0.00000000e+00, 0.00000000e+00, ...,\n",
       "        0.00000000e+00, 0.00000000e+00, 0.00000000e+00]])"
      ]
     },
     "execution_count": 9,
     "metadata": {},
     "output_type": "execute_result"
    }
   ],
   "source": [
    "filtered"
   ]
  },
  {
   "cell_type": "code",
   "execution_count": 10,
   "metadata": {
    "colab": {
     "base_uri": "https://localhost:8080/",
     "height": 300
    },
    "id": "qBXOSdNctKXA",
    "outputId": "42716f00-f1c2-444c-b9f0-6bc4497eff73"
   },
   "outputs": [
    {
     "data": {
      "text/html": [
       "<div>\n",
       "<style scoped>\n",
       "    .dataframe tbody tr th:only-of-type {\n",
       "        vertical-align: middle;\n",
       "    }\n",
       "\n",
       "    .dataframe tbody tr th {\n",
       "        vertical-align: top;\n",
       "    }\n",
       "\n",
       "    .dataframe thead th {\n",
       "        text-align: right;\n",
       "    }\n",
       "</style>\n",
       "<table border=\"1\" class=\"dataframe\">\n",
       "  <thead>\n",
       "    <tr style=\"text-align: right;\">\n",
       "      <th></th>\n",
       "      <th># Fc5.</th>\n",
       "      <th>Fc3.</th>\n",
       "      <th>Fc1.</th>\n",
       "      <th>Fcz.</th>\n",
       "      <th>Fc2.</th>\n",
       "      <th>Fc4.</th>\n",
       "      <th>Fc6.</th>\n",
       "      <th>C5..</th>\n",
       "      <th>C3..</th>\n",
       "      <th>C1..</th>\n",
       "      <th>...</th>\n",
       "      <th>Po7.</th>\n",
       "      <th>Po3.</th>\n",
       "      <th>Poz.</th>\n",
       "      <th>Po4.</th>\n",
       "      <th>Po8.</th>\n",
       "      <th>O1..</th>\n",
       "      <th>Oz..</th>\n",
       "      <th>O2..</th>\n",
       "      <th>Iz..</th>\n",
       "      <th>Annotation</th>\n",
       "    </tr>\n",
       "  </thead>\n",
       "  <tbody>\n",
       "    <tr>\n",
       "      <th>0</th>\n",
       "      <td>-0.000010</td>\n",
       "      <td>0.000020</td>\n",
       "      <td>0.000007</td>\n",
       "      <td>-0.000018</td>\n",
       "      <td>0.000000</td>\n",
       "      <td>0.000004</td>\n",
       "      <td>0.000060</td>\n",
       "      <td>0.000004</td>\n",
       "      <td>0.000012</td>\n",
       "      <td>0.000006</td>\n",
       "      <td>...</td>\n",
       "      <td>0.000030</td>\n",
       "      <td>0.000025</td>\n",
       "      <td>0.000022</td>\n",
       "      <td>0.000013</td>\n",
       "      <td>-0.000009</td>\n",
       "      <td>0.000020</td>\n",
       "      <td>0.000024</td>\n",
       "      <td>0.000089</td>\n",
       "      <td>0.000068</td>\n",
       "      <td>T0</td>\n",
       "    </tr>\n",
       "    <tr>\n",
       "      <th>1</th>\n",
       "      <td>0.000010</td>\n",
       "      <td>0.000050</td>\n",
       "      <td>0.000049</td>\n",
       "      <td>0.000022</td>\n",
       "      <td>0.000038</td>\n",
       "      <td>0.000031</td>\n",
       "      <td>0.000084</td>\n",
       "      <td>0.000025</td>\n",
       "      <td>0.000043</td>\n",
       "      <td>0.000049</td>\n",
       "      <td>...</td>\n",
       "      <td>0.000044</td>\n",
       "      <td>0.000031</td>\n",
       "      <td>0.000027</td>\n",
       "      <td>0.000025</td>\n",
       "      <td>0.000012</td>\n",
       "      <td>0.000030</td>\n",
       "      <td>0.000025</td>\n",
       "      <td>0.000083</td>\n",
       "      <td>0.000065</td>\n",
       "      <td>T0</td>\n",
       "    </tr>\n",
       "    <tr>\n",
       "      <th>2</th>\n",
       "      <td>0.000017</td>\n",
       "      <td>0.000055</td>\n",
       "      <td>0.000059</td>\n",
       "      <td>0.000030</td>\n",
       "      <td>0.000037</td>\n",
       "      <td>0.000025</td>\n",
       "      <td>0.000079</td>\n",
       "      <td>0.000030</td>\n",
       "      <td>0.000048</td>\n",
       "      <td>0.000053</td>\n",
       "      <td>...</td>\n",
       "      <td>0.000048</td>\n",
       "      <td>0.000036</td>\n",
       "      <td>0.000033</td>\n",
       "      <td>0.000034</td>\n",
       "      <td>0.000034</td>\n",
       "      <td>0.000041</td>\n",
       "      <td>0.000034</td>\n",
       "      <td>0.000092</td>\n",
       "      <td>0.000078</td>\n",
       "      <td>T0</td>\n",
       "    </tr>\n",
       "    <tr>\n",
       "      <th>3</th>\n",
       "      <td>0.000021</td>\n",
       "      <td>0.000063</td>\n",
       "      <td>0.000066</td>\n",
       "      <td>0.000035</td>\n",
       "      <td>0.000040</td>\n",
       "      <td>0.000029</td>\n",
       "      <td>0.000076</td>\n",
       "      <td>0.000035</td>\n",
       "      <td>0.000055</td>\n",
       "      <td>0.000065</td>\n",
       "      <td>...</td>\n",
       "      <td>0.000048</td>\n",
       "      <td>0.000041</td>\n",
       "      <td>0.000050</td>\n",
       "      <td>0.000059</td>\n",
       "      <td>0.000063</td>\n",
       "      <td>0.000045</td>\n",
       "      <td>0.000047</td>\n",
       "      <td>0.000121</td>\n",
       "      <td>0.000086</td>\n",
       "      <td>T0</td>\n",
       "    </tr>\n",
       "    <tr>\n",
       "      <th>4</th>\n",
       "      <td>0.000027</td>\n",
       "      <td>0.000072</td>\n",
       "      <td>0.000079</td>\n",
       "      <td>0.000048</td>\n",
       "      <td>0.000052</td>\n",
       "      <td>0.000042</td>\n",
       "      <td>0.000091</td>\n",
       "      <td>0.000043</td>\n",
       "      <td>0.000060</td>\n",
       "      <td>0.000076</td>\n",
       "      <td>...</td>\n",
       "      <td>0.000029</td>\n",
       "      <td>0.000022</td>\n",
       "      <td>0.000042</td>\n",
       "      <td>0.000062</td>\n",
       "      <td>0.000071</td>\n",
       "      <td>0.000037</td>\n",
       "      <td>0.000051</td>\n",
       "      <td>0.000143</td>\n",
       "      <td>0.000090</td>\n",
       "      <td>T0</td>\n",
       "    </tr>\n",
       "  </tbody>\n",
       "</table>\n",
       "<p>5 rows × 65 columns</p>\n",
       "</div>"
      ],
      "text/plain": [
       "     # Fc5.      Fc3.      Fc1.      Fcz.      Fc2.      Fc4.      Fc6.  \\\n",
       "0 -0.000010  0.000020  0.000007 -0.000018  0.000000  0.000004  0.000060   \n",
       "1  0.000010  0.000050  0.000049  0.000022  0.000038  0.000031  0.000084   \n",
       "2  0.000017  0.000055  0.000059  0.000030  0.000037  0.000025  0.000079   \n",
       "3  0.000021  0.000063  0.000066  0.000035  0.000040  0.000029  0.000076   \n",
       "4  0.000027  0.000072  0.000079  0.000048  0.000052  0.000042  0.000091   \n",
       "\n",
       "       C5..      C3..      C1..  ...      Po7.      Po3.      Poz.      Po4.  \\\n",
       "0  0.000004  0.000012  0.000006  ...  0.000030  0.000025  0.000022  0.000013   \n",
       "1  0.000025  0.000043  0.000049  ...  0.000044  0.000031  0.000027  0.000025   \n",
       "2  0.000030  0.000048  0.000053  ...  0.000048  0.000036  0.000033  0.000034   \n",
       "3  0.000035  0.000055  0.000065  ...  0.000048  0.000041  0.000050  0.000059   \n",
       "4  0.000043  0.000060  0.000076  ...  0.000029  0.000022  0.000042  0.000062   \n",
       "\n",
       "       Po8.      O1..      Oz..      O2..      Iz..  Annotation  \n",
       "0 -0.000009  0.000020  0.000024  0.000089  0.000068          T0  \n",
       "1  0.000012  0.000030  0.000025  0.000083  0.000065          T0  \n",
       "2  0.000034  0.000041  0.000034  0.000092  0.000078          T0  \n",
       "3  0.000063  0.000045  0.000047  0.000121  0.000086          T0  \n",
       "4  0.000071  0.000037  0.000051  0.000143  0.000090          T0  \n",
       "\n",
       "[5 rows x 65 columns]"
      ]
     },
     "execution_count": 10,
     "metadata": {},
     "output_type": "execute_result"
    }
   ],
   "source": [
    "df.head()"
   ]
  },
  {
   "cell_type": "code",
   "execution_count": 11,
   "metadata": {
    "colab": {
     "base_uri": "https://localhost:8080/",
     "height": 458
    },
    "id": "fp2l_kY5C4qI",
    "outputId": "b4c5148d-de48-409b-92d3-b9cb68e416c7"
   },
   "outputs": [
    {
     "name": "stdout",
     "output_type": "stream",
     "text": [
      "T0    139400\n",
      "T2     59940\n",
      "T1     59940\n",
      "Name: Class, dtype: int64\n"
     ]
    },
    {
     "data": {
      "text/html": [
       "<div>\n",
       "<style scoped>\n",
       "    .dataframe tbody tr th:only-of-type {\n",
       "        vertical-align: middle;\n",
       "    }\n",
       "\n",
       "    .dataframe tbody tr th {\n",
       "        vertical-align: top;\n",
       "    }\n",
       "\n",
       "    .dataframe thead th {\n",
       "        text-align: right;\n",
       "    }\n",
       "</style>\n",
       "<table border=\"1\" class=\"dataframe\">\n",
       "  <thead>\n",
       "    <tr style=\"text-align: right;\">\n",
       "      <th></th>\n",
       "      <th># Fc5.</th>\n",
       "      <th>Fc3.</th>\n",
       "      <th>Fc1.</th>\n",
       "      <th>Fcz.</th>\n",
       "      <th>Fc2.</th>\n",
       "      <th>Fc4.</th>\n",
       "      <th>Fc6.</th>\n",
       "      <th>C5..</th>\n",
       "      <th>C3..</th>\n",
       "      <th>C1..</th>\n",
       "      <th>...</th>\n",
       "      <th>Po7.</th>\n",
       "      <th>Po3.</th>\n",
       "      <th>Poz.</th>\n",
       "      <th>Po4.</th>\n",
       "      <th>Po8.</th>\n",
       "      <th>O1..</th>\n",
       "      <th>Oz..</th>\n",
       "      <th>O2..</th>\n",
       "      <th>Iz..</th>\n",
       "      <th>Class</th>\n",
       "    </tr>\n",
       "  </thead>\n",
       "  <tbody>\n",
       "    <tr>\n",
       "      <th>0</th>\n",
       "      <td>0.000023</td>\n",
       "      <td>0.000019</td>\n",
       "      <td>0.000016</td>\n",
       "      <td>0.000014</td>\n",
       "      <td>0.000012</td>\n",
       "      <td>0.000011</td>\n",
       "      <td>0.000010</td>\n",
       "      <td>0.000009</td>\n",
       "      <td>0.000008</td>\n",
       "      <td>0.000008</td>\n",
       "      <td>...</td>\n",
       "      <td>0.000018</td>\n",
       "      <td>0.000018</td>\n",
       "      <td>0.000019</td>\n",
       "      <td>0.000020</td>\n",
       "      <td>0.000020</td>\n",
       "      <td>0.000021</td>\n",
       "      <td>0.000021</td>\n",
       "      <td>0.000022</td>\n",
       "      <td>0.000022</td>\n",
       "      <td>T0</td>\n",
       "    </tr>\n",
       "    <tr>\n",
       "      <th>1</th>\n",
       "      <td>0.000034</td>\n",
       "      <td>0.000034</td>\n",
       "      <td>0.000034</td>\n",
       "      <td>0.000035</td>\n",
       "      <td>0.000035</td>\n",
       "      <td>0.000035</td>\n",
       "      <td>0.000035</td>\n",
       "      <td>0.000035</td>\n",
       "      <td>0.000036</td>\n",
       "      <td>0.000036</td>\n",
       "      <td>...</td>\n",
       "      <td>0.000031</td>\n",
       "      <td>0.000031</td>\n",
       "      <td>0.000032</td>\n",
       "      <td>0.000032</td>\n",
       "      <td>0.000033</td>\n",
       "      <td>0.000033</td>\n",
       "      <td>0.000033</td>\n",
       "      <td>0.000034</td>\n",
       "      <td>0.000034</td>\n",
       "      <td>T0</td>\n",
       "    </tr>\n",
       "    <tr>\n",
       "      <th>2</th>\n",
       "      <td>0.000047</td>\n",
       "      <td>0.000043</td>\n",
       "      <td>0.000040</td>\n",
       "      <td>0.000039</td>\n",
       "      <td>0.000037</td>\n",
       "      <td>0.000037</td>\n",
       "      <td>0.000036</td>\n",
       "      <td>0.000035</td>\n",
       "      <td>0.000034</td>\n",
       "      <td>0.000035</td>\n",
       "      <td>...</td>\n",
       "      <td>0.000036</td>\n",
       "      <td>0.000037</td>\n",
       "      <td>0.000039</td>\n",
       "      <td>0.000040</td>\n",
       "      <td>0.000041</td>\n",
       "      <td>0.000043</td>\n",
       "      <td>0.000044</td>\n",
       "      <td>0.000045</td>\n",
       "      <td>0.000046</td>\n",
       "      <td>T0</td>\n",
       "    </tr>\n",
       "    <tr>\n",
       "      <th>3</th>\n",
       "      <td>0.000060</td>\n",
       "      <td>0.000055</td>\n",
       "      <td>0.000052</td>\n",
       "      <td>0.000050</td>\n",
       "      <td>0.000047</td>\n",
       "      <td>0.000047</td>\n",
       "      <td>0.000046</td>\n",
       "      <td>0.000044</td>\n",
       "      <td>0.000043</td>\n",
       "      <td>0.000043</td>\n",
       "      <td>...</td>\n",
       "      <td>0.000050</td>\n",
       "      <td>0.000051</td>\n",
       "      <td>0.000052</td>\n",
       "      <td>0.000053</td>\n",
       "      <td>0.000055</td>\n",
       "      <td>0.000056</td>\n",
       "      <td>0.000057</td>\n",
       "      <td>0.000058</td>\n",
       "      <td>0.000059</td>\n",
       "      <td>T0</td>\n",
       "    </tr>\n",
       "    <tr>\n",
       "      <th>4</th>\n",
       "      <td>0.000067</td>\n",
       "      <td>0.000062</td>\n",
       "      <td>0.000059</td>\n",
       "      <td>0.000057</td>\n",
       "      <td>0.000055</td>\n",
       "      <td>0.000056</td>\n",
       "      <td>0.000055</td>\n",
       "      <td>0.000054</td>\n",
       "      <td>0.000053</td>\n",
       "      <td>0.000054</td>\n",
       "      <td>...</td>\n",
       "      <td>0.000050</td>\n",
       "      <td>0.000052</td>\n",
       "      <td>0.000054</td>\n",
       "      <td>0.000055</td>\n",
       "      <td>0.000057</td>\n",
       "      <td>0.000059</td>\n",
       "      <td>0.000061</td>\n",
       "      <td>0.000063</td>\n",
       "      <td>0.000065</td>\n",
       "      <td>T0</td>\n",
       "    </tr>\n",
       "  </tbody>\n",
       "</table>\n",
       "<p>5 rows × 65 columns</p>\n",
       "</div>"
      ],
      "text/plain": [
       "     # Fc5.      Fc3.      Fc1.      Fcz.      Fc2.      Fc4.      Fc6.  \\\n",
       "0  0.000023  0.000019  0.000016  0.000014  0.000012  0.000011  0.000010   \n",
       "1  0.000034  0.000034  0.000034  0.000035  0.000035  0.000035  0.000035   \n",
       "2  0.000047  0.000043  0.000040  0.000039  0.000037  0.000037  0.000036   \n",
       "3  0.000060  0.000055  0.000052  0.000050  0.000047  0.000047  0.000046   \n",
       "4  0.000067  0.000062  0.000059  0.000057  0.000055  0.000056  0.000055   \n",
       "\n",
       "       C5..      C3..      C1..  ...      Po7.      Po3.      Poz.      Po4.  \\\n",
       "0  0.000009  0.000008  0.000008  ...  0.000018  0.000018  0.000019  0.000020   \n",
       "1  0.000035  0.000036  0.000036  ...  0.000031  0.000031  0.000032  0.000032   \n",
       "2  0.000035  0.000034  0.000035  ...  0.000036  0.000037  0.000039  0.000040   \n",
       "3  0.000044  0.000043  0.000043  ...  0.000050  0.000051  0.000052  0.000053   \n",
       "4  0.000054  0.000053  0.000054  ...  0.000050  0.000052  0.000054  0.000055   \n",
       "\n",
       "       Po8.      O1..      Oz..      O2..      Iz..  Class  \n",
       "0  0.000020  0.000021  0.000021  0.000022  0.000022     T0  \n",
       "1  0.000033  0.000033  0.000033  0.000034  0.000034     T0  \n",
       "2  0.000041  0.000043  0.000044  0.000045  0.000046     T0  \n",
       "3  0.000055  0.000056  0.000057  0.000058  0.000059     T0  \n",
       "4  0.000057  0.000059  0.000061  0.000063  0.000065     T0  \n",
       "\n",
       "[5 rows x 65 columns]"
      ]
     },
     "execution_count": 11,
     "metadata": {},
     "output_type": "execute_result"
    }
   ],
   "source": [
    "updated = pd.DataFrame(filtered, columns = list(signal.columns))\n",
    "updated[\"Class\"] = df[\"Annotation\"]\n",
    "print(updated[\"Class\"].value_counts())\n",
    "updated.head()"
   ]
  },
  {
   "cell_type": "code",
   "execution_count": 12,
   "metadata": {
    "id": "uoXiqi75t2JC"
   },
   "outputs": [],
   "source": [
    "count_values = updated[\"Class\"].value_counts()\n",
    "minimum_val = min(count_values)\n",
    "class_1_remove = count_values[0] - minimum_val\n",
    "class_2_remove = count_values[1] - minimum_val\n",
    "class_3_remove = count_values[2] - minimum_val\n",
    "if class_1_remove:\n",
    "    drop_indices = np.random.choice(updated[updated[\"Class\"] == \"T0\"].index, class_1_remove, replace=False)\n",
    "    df_subset = updated.drop(drop_indices)\n",
    "if class_2_remove:\n",
    "    drop_indices = np.random.choice(updated[updated[\"Class\"] == \"T2\"].index, class_1_remove, replace=False)\n",
    "    df_subset = updated.drop(drop_indices)\n",
    "if class_3_remove:\n",
    "    drop_indices = np.random.choice(updated[updated[\"Class\"] == \"T1\"].index, class_1_remove, replace=False)\n",
    "    df_subset = updated.drop(drop_indices)"
   ]
  },
  {
   "cell_type": "code",
   "execution_count": 13,
   "metadata": {
    "colab": {
     "base_uri": "https://localhost:8080/"
    },
    "id": "9_qKCBBv2JA5",
    "outputId": "d04b44df-b595-45e8-fb0a-0210f70fc8fb"
   },
   "outputs": [
    {
     "data": {
      "text/plain": [
       "T0    59940\n",
       "T2    59940\n",
       "T1    59940\n",
       "Name: Class, dtype: int64"
      ]
     },
     "execution_count": 13,
     "metadata": {},
     "output_type": "execute_result"
    }
   ],
   "source": [
    "df_subset[\"Class\"].value_counts()"
   ]
  },
  {
   "cell_type": "code",
   "execution_count": 27,
   "metadata": {},
   "outputs": [
    {
     "name": "stdout",
     "output_type": "stream",
     "text": [
      "Collecting sklearn\n",
      "  Downloading sklearn-0.0.tar.gz (1.1 kB)\n",
      "Collecting scikit-learn\n",
      "  Downloading scikit_learn-1.1.1-cp310-cp310-macosx_12_0_arm64.whl (7.7 MB)\n",
      "\u001b[K     |████████████████████████████████| 7.7 MB 3.3 MB/s eta 0:00:01\n",
      "\u001b[?25hCollecting threadpoolctl>=2.0.0\n",
      "  Downloading threadpoolctl-3.1.0-py3-none-any.whl (14 kB)\n",
      "Collecting joblib>=1.0.0\n",
      "  Downloading joblib-1.1.0-py2.py3-none-any.whl (306 kB)\n",
      "\u001b[K     |████████████████████████████████| 306 kB 60.9 MB/s eta 0:00:01\n",
      "\u001b[?25hCollecting scipy>=1.3.2\n",
      "  Downloading scipy-1.8.1-cp310-cp310-macosx_12_0_arm64.whl (28.7 MB)\n",
      "\u001b[K     |████████████████████████████████| 28.7 MB 14.7 MB/s eta 0:00:01\n",
      "\u001b[?25hRequirement already satisfied: numpy>=1.17.3 in /Library/Frameworks/Python.framework/Versions/3.10/lib/python3.10/site-packages (from scikit-learn->sklearn) (1.22.3)\n",
      "Using legacy 'setup.py install' for sklearn, since package 'wheel' is not installed.\n",
      "Installing collected packages: threadpoolctl, scipy, joblib, scikit-learn, sklearn\n",
      "    Running setup.py install for sklearn ... \u001b[?25ldone\n",
      "\u001b[?25hSuccessfully installed joblib-1.1.0 scikit-learn-1.1.1 scipy-1.8.1 sklearn-0.0 threadpoolctl-3.1.0\n",
      "\u001b[33mWARNING: You are using pip version 21.2.4; however, version 22.1.1 is available.\n",
      "You should consider upgrading via the '/Library/Frameworks/Python.framework/Versions/3.10/bin/python3.10 -m pip install --upgrade pip' command.\u001b[0m\n",
      "Note: you may need to restart the kernel to use updated packages.\n"
     ]
    }
   ],
   "source": [
    "pip install sklearn"
   ]
  },
  {
   "cell_type": "code",
   "execution_count": 14,
   "metadata": {
    "colab": {
     "base_uri": "https://localhost:8080/"
    },
    "id": "2uNMWH_4eggf",
    "outputId": "c7b89e1b-8b65-488e-f597-a566b43df502"
   },
   "outputs": [
    {
     "data": {
      "text/plain": [
       "3         0\n",
       "7         0\n",
       "12        0\n",
       "15        0\n",
       "16        0\n",
       "         ..\n",
       "259275    2\n",
       "259276    2\n",
       "259277    2\n",
       "259278    2\n",
       "259279    2\n",
       "Name: Class, Length: 179820, dtype: int64"
      ]
     },
     "execution_count": 14,
     "metadata": {},
     "output_type": "execute_result"
    }
   ],
   "source": [
    "from sklearn.preprocessing import LabelEncoder\n",
    "label_encoder =LabelEncoder()\n",
    "df_subset['Class']= label_encoder.fit_transform(df_subset['Class'])\n",
    "X = df_subset.drop(['Class'], axis=1)\n",
    "y = df_subset['Class']\n",
    "y"
   ]
  },
  {
   "cell_type": "code",
   "execution_count": 15,
   "metadata": {
    "colab": {
     "base_uri": "https://localhost:8080/"
    },
    "id": "VlMHg8Q1bhMU",
    "outputId": "f6b8916f-f93c-42ae-920e-0efcbfa7de34"
   },
   "outputs": [
    {
     "data": {
      "text/html": [
       "<style>#sk-container-id-1 {color: black;background-color: white;}#sk-container-id-1 pre{padding: 0;}#sk-container-id-1 div.sk-toggleable {background-color: white;}#sk-container-id-1 label.sk-toggleable__label {cursor: pointer;display: block;width: 100%;margin-bottom: 0;padding: 0.3em;box-sizing: border-box;text-align: center;}#sk-container-id-1 label.sk-toggleable__label-arrow:before {content: \"▸\";float: left;margin-right: 0.25em;color: #696969;}#sk-container-id-1 label.sk-toggleable__label-arrow:hover:before {color: black;}#sk-container-id-1 div.sk-estimator:hover label.sk-toggleable__label-arrow:before {color: black;}#sk-container-id-1 div.sk-toggleable__content {max-height: 0;max-width: 0;overflow: hidden;text-align: left;background-color: #f0f8ff;}#sk-container-id-1 div.sk-toggleable__content pre {margin: 0.2em;color: black;border-radius: 0.25em;background-color: #f0f8ff;}#sk-container-id-1 input.sk-toggleable__control:checked~div.sk-toggleable__content {max-height: 200px;max-width: 100%;overflow: auto;}#sk-container-id-1 input.sk-toggleable__control:checked~label.sk-toggleable__label-arrow:before {content: \"▾\";}#sk-container-id-1 div.sk-estimator input.sk-toggleable__control:checked~label.sk-toggleable__label {background-color: #d4ebff;}#sk-container-id-1 div.sk-label input.sk-toggleable__control:checked~label.sk-toggleable__label {background-color: #d4ebff;}#sk-container-id-1 input.sk-hidden--visually {border: 0;clip: rect(1px 1px 1px 1px);clip: rect(1px, 1px, 1px, 1px);height: 1px;margin: -1px;overflow: hidden;padding: 0;position: absolute;width: 1px;}#sk-container-id-1 div.sk-estimator {font-family: monospace;background-color: #f0f8ff;border: 1px dotted black;border-radius: 0.25em;box-sizing: border-box;margin-bottom: 0.5em;}#sk-container-id-1 div.sk-estimator:hover {background-color: #d4ebff;}#sk-container-id-1 div.sk-parallel-item::after {content: \"\";width: 100%;border-bottom: 1px solid gray;flex-grow: 1;}#sk-container-id-1 div.sk-label:hover label.sk-toggleable__label {background-color: #d4ebff;}#sk-container-id-1 div.sk-serial::before {content: \"\";position: absolute;border-left: 1px solid gray;box-sizing: border-box;top: 0;bottom: 0;left: 50%;z-index: 0;}#sk-container-id-1 div.sk-serial {display: flex;flex-direction: column;align-items: center;background-color: white;padding-right: 0.2em;padding-left: 0.2em;position: relative;}#sk-container-id-1 div.sk-item {position: relative;z-index: 1;}#sk-container-id-1 div.sk-parallel {display: flex;align-items: stretch;justify-content: center;background-color: white;position: relative;}#sk-container-id-1 div.sk-item::before, #sk-container-id-1 div.sk-parallel-item::before {content: \"\";position: absolute;border-left: 1px solid gray;box-sizing: border-box;top: 0;bottom: 0;left: 50%;z-index: -1;}#sk-container-id-1 div.sk-parallel-item {display: flex;flex-direction: column;z-index: 1;position: relative;background-color: white;}#sk-container-id-1 div.sk-parallel-item:first-child::after {align-self: flex-end;width: 50%;}#sk-container-id-1 div.sk-parallel-item:last-child::after {align-self: flex-start;width: 50%;}#sk-container-id-1 div.sk-parallel-item:only-child::after {width: 0;}#sk-container-id-1 div.sk-dashed-wrapped {border: 1px dashed gray;margin: 0 0.4em 0.5em 0.4em;box-sizing: border-box;padding-bottom: 0.4em;background-color: white;}#sk-container-id-1 div.sk-label label {font-family: monospace;font-weight: bold;display: inline-block;line-height: 1.2em;}#sk-container-id-1 div.sk-label-container {text-align: center;}#sk-container-id-1 div.sk-container {/* jupyter's `normalize.less` sets `[hidden] { display: none; }` but bootstrap.min.css set `[hidden] { display: none !important; }` so we also need the `!important` here to be able to override the default hidden behavior on the sphinx rendered scikit-learn.org. See: https://github.com/scikit-learn/scikit-learn/issues/21755 */display: inline-block !important;position: relative;}#sk-container-id-1 div.sk-text-repr-fallback {display: none;}</style><div id=\"sk-container-id-1\" class=\"sk-top-container\"><div class=\"sk-text-repr-fallback\"><pre>KMeans(n_clusters=3, random_state=0)</pre><b>In a Jupyter environment, please rerun this cell to show the HTML representation or trust the notebook. <br />On GitHub, the HTML representation is unable to render, please try loading this page with nbviewer.org.</b></div><div class=\"sk-container\" hidden><div class=\"sk-item\"><div class=\"sk-estimator sk-toggleable\"><input class=\"sk-toggleable__control sk-hidden--visually\" id=\"sk-estimator-id-1\" type=\"checkbox\" checked><label for=\"sk-estimator-id-1\" class=\"sk-toggleable__label sk-toggleable__label-arrow\">KMeans</label><div class=\"sk-toggleable__content\"><pre>KMeans(n_clusters=3, random_state=0)</pre></div></div></div></div></div>"
      ],
      "text/plain": [
       "KMeans(n_clusters=3, random_state=0)"
      ]
     },
     "execution_count": 15,
     "metadata": {},
     "output_type": "execute_result"
    }
   ],
   "source": [
    "import numpy as np\n",
    "import pandas as pd\n",
    "from matplotlib import pyplot as plt\n",
    "from sklearn.cluster import KMeans\n",
    "\n",
    "kmeans = KMeans(n_clusters=3, random_state=0) \n",
    "kmeans.fit(X)"
   ]
  },
  {
   "cell_type": "code",
   "execution_count": 16,
   "metadata": {
    "colab": {
     "base_uri": "https://localhost:8080/"
    },
    "id": "8IUCzZsKc0HB",
    "outputId": "0c81270d-0936-492c-c34b-457b2eb362d0"
   },
   "outputs": [
    {
     "name": "stdout",
     "output_type": "stream",
     "text": [
      "Result: 62188 out of 179820 samples were correctly labeled.\n"
     ]
    }
   ],
   "source": [
    "labels = kmeans.labels_\n",
    "# check how many of the samples were correctly labeled\n",
    "correct_labels = sum(y == labels)\n",
    "print(\"Result: %d out of %d samples were correctly labeled.\" % (correct_labels, y.size))"
   ]
  },
  {
   "cell_type": "code",
   "execution_count": 17,
   "metadata": {
    "colab": {
     "base_uri": "https://localhost:8080/",
     "height": 386
    },
    "id": "kNX0ejyddvrc",
    "outputId": "dd7df774-e939-4aee-8733-62012ad7cc17"
   },
   "outputs": [
    {
     "data": {
      "text/html": [
       "<div>\n",
       "<style scoped>\n",
       "    .dataframe tbody tr th:only-of-type {\n",
       "        vertical-align: middle;\n",
       "    }\n",
       "\n",
       "    .dataframe tbody tr th {\n",
       "        vertical-align: top;\n",
       "    }\n",
       "\n",
       "    .dataframe thead th {\n",
       "        text-align: right;\n",
       "    }\n",
       "</style>\n",
       "<table border=\"1\" class=\"dataframe\">\n",
       "  <thead>\n",
       "    <tr style=\"text-align: right;\">\n",
       "      <th></th>\n",
       "      <th># Fc5.</th>\n",
       "      <th>Fc3.</th>\n",
       "      <th>Fc1.</th>\n",
       "      <th>Fcz.</th>\n",
       "      <th>Fc2.</th>\n",
       "      <th>Fc4.</th>\n",
       "      <th>Fc6.</th>\n",
       "      <th>C5..</th>\n",
       "      <th>C3..</th>\n",
       "      <th>C1..</th>\n",
       "      <th>...</th>\n",
       "      <th>Po3.</th>\n",
       "      <th>Poz.</th>\n",
       "      <th>Po4.</th>\n",
       "      <th>Po8.</th>\n",
       "      <th>O1..</th>\n",
       "      <th>Oz..</th>\n",
       "      <th>O2..</th>\n",
       "      <th>Iz..</th>\n",
       "      <th>Class</th>\n",
       "      <th>Cluster</th>\n",
       "    </tr>\n",
       "  </thead>\n",
       "  <tbody>\n",
       "    <tr>\n",
       "      <th>3</th>\n",
       "      <td>0.000060</td>\n",
       "      <td>0.000055</td>\n",
       "      <td>0.000052</td>\n",
       "      <td>0.000050</td>\n",
       "      <td>0.000047</td>\n",
       "      <td>0.000047</td>\n",
       "      <td>0.000046</td>\n",
       "      <td>0.000044</td>\n",
       "      <td>0.000043</td>\n",
       "      <td>0.000043</td>\n",
       "      <td>...</td>\n",
       "      <td>0.000051</td>\n",
       "      <td>0.000052</td>\n",
       "      <td>0.000053</td>\n",
       "      <td>0.000055</td>\n",
       "      <td>0.000056</td>\n",
       "      <td>0.000057</td>\n",
       "      <td>0.000058</td>\n",
       "      <td>0.000059</td>\n",
       "      <td>0</td>\n",
       "      <td>1</td>\n",
       "    </tr>\n",
       "    <tr>\n",
       "      <th>7</th>\n",
       "      <td>0.000065</td>\n",
       "      <td>0.000057</td>\n",
       "      <td>0.000051</td>\n",
       "      <td>0.000049</td>\n",
       "      <td>0.000046</td>\n",
       "      <td>0.000045</td>\n",
       "      <td>0.000044</td>\n",
       "      <td>0.000042</td>\n",
       "      <td>0.000041</td>\n",
       "      <td>0.000042</td>\n",
       "      <td>...</td>\n",
       "      <td>0.000045</td>\n",
       "      <td>0.000047</td>\n",
       "      <td>0.000049</td>\n",
       "      <td>0.000052</td>\n",
       "      <td>0.000054</td>\n",
       "      <td>0.000057</td>\n",
       "      <td>0.000060</td>\n",
       "      <td>0.000062</td>\n",
       "      <td>0</td>\n",
       "      <td>1</td>\n",
       "    </tr>\n",
       "    <tr>\n",
       "      <th>12</th>\n",
       "      <td>0.000085</td>\n",
       "      <td>0.000078</td>\n",
       "      <td>0.000073</td>\n",
       "      <td>0.000070</td>\n",
       "      <td>0.000066</td>\n",
       "      <td>0.000064</td>\n",
       "      <td>0.000062</td>\n",
       "      <td>0.000060</td>\n",
       "      <td>0.000057</td>\n",
       "      <td>0.000056</td>\n",
       "      <td>...</td>\n",
       "      <td>0.000079</td>\n",
       "      <td>0.000081</td>\n",
       "      <td>0.000083</td>\n",
       "      <td>0.000083</td>\n",
       "      <td>0.000084</td>\n",
       "      <td>0.000084</td>\n",
       "      <td>0.000084</td>\n",
       "      <td>0.000084</td>\n",
       "      <td>0</td>\n",
       "      <td>2</td>\n",
       "    </tr>\n",
       "    <tr>\n",
       "      <th>15</th>\n",
       "      <td>0.000188</td>\n",
       "      <td>0.000176</td>\n",
       "      <td>0.000167</td>\n",
       "      <td>0.000163</td>\n",
       "      <td>0.000157</td>\n",
       "      <td>0.000156</td>\n",
       "      <td>0.000153</td>\n",
       "      <td>0.000149</td>\n",
       "      <td>0.000146</td>\n",
       "      <td>0.000147</td>\n",
       "      <td>...</td>\n",
       "      <td>0.000167</td>\n",
       "      <td>0.000171</td>\n",
       "      <td>0.000173</td>\n",
       "      <td>0.000176</td>\n",
       "      <td>0.000179</td>\n",
       "      <td>0.000181</td>\n",
       "      <td>0.000183</td>\n",
       "      <td>0.000186</td>\n",
       "      <td>0</td>\n",
       "      <td>2</td>\n",
       "    </tr>\n",
       "    <tr>\n",
       "      <th>16</th>\n",
       "      <td>0.000196</td>\n",
       "      <td>0.000185</td>\n",
       "      <td>0.000178</td>\n",
       "      <td>0.000174</td>\n",
       "      <td>0.000170</td>\n",
       "      <td>0.000168</td>\n",
       "      <td>0.000166</td>\n",
       "      <td>0.000163</td>\n",
       "      <td>0.000161</td>\n",
       "      <td>0.000162</td>\n",
       "      <td>...</td>\n",
       "      <td>0.000175</td>\n",
       "      <td>0.000178</td>\n",
       "      <td>0.000181</td>\n",
       "      <td>0.000184</td>\n",
       "      <td>0.000186</td>\n",
       "      <td>0.000189</td>\n",
       "      <td>0.000191</td>\n",
       "      <td>0.000194</td>\n",
       "      <td>0</td>\n",
       "      <td>2</td>\n",
       "    </tr>\n",
       "  </tbody>\n",
       "</table>\n",
       "<p>5 rows × 66 columns</p>\n",
       "</div>"
      ],
      "text/plain": [
       "      # Fc5.      Fc3.      Fc1.      Fcz.      Fc2.      Fc4.      Fc6.  \\\n",
       "3   0.000060  0.000055  0.000052  0.000050  0.000047  0.000047  0.000046   \n",
       "7   0.000065  0.000057  0.000051  0.000049  0.000046  0.000045  0.000044   \n",
       "12  0.000085  0.000078  0.000073  0.000070  0.000066  0.000064  0.000062   \n",
       "15  0.000188  0.000176  0.000167  0.000163  0.000157  0.000156  0.000153   \n",
       "16  0.000196  0.000185  0.000178  0.000174  0.000170  0.000168  0.000166   \n",
       "\n",
       "        C5..      C3..      C1..  ...      Po3.      Poz.      Po4.      Po8.  \\\n",
       "3   0.000044  0.000043  0.000043  ...  0.000051  0.000052  0.000053  0.000055   \n",
       "7   0.000042  0.000041  0.000042  ...  0.000045  0.000047  0.000049  0.000052   \n",
       "12  0.000060  0.000057  0.000056  ...  0.000079  0.000081  0.000083  0.000083   \n",
       "15  0.000149  0.000146  0.000147  ...  0.000167  0.000171  0.000173  0.000176   \n",
       "16  0.000163  0.000161  0.000162  ...  0.000175  0.000178  0.000181  0.000184   \n",
       "\n",
       "        O1..      Oz..      O2..      Iz..  Class  Cluster  \n",
       "3   0.000056  0.000057  0.000058  0.000059      0        1  \n",
       "7   0.000054  0.000057  0.000060  0.000062      0        1  \n",
       "12  0.000084  0.000084  0.000084  0.000084      0        2  \n",
       "15  0.000179  0.000181  0.000183  0.000186      0        2  \n",
       "16  0.000186  0.000189  0.000191  0.000194      0        2  \n",
       "\n",
       "[5 rows x 66 columns]"
      ]
     },
     "execution_count": 17,
     "metadata": {},
     "output_type": "execute_result"
    }
   ],
   "source": [
    "df_subset[\"Cluster\"] = labels\n",
    "df_subset.head()"
   ]
  },
  {
   "cell_type": "code",
   "execution_count": 18,
   "metadata": {
    "colab": {
     "base_uri": "https://localhost:8080/",
     "height": 300
    },
    "id": "C8IIY8eaei3m",
    "outputId": "ca46fb23-d213-44ad-d373-83b2f0fab593"
   },
   "outputs": [
    {
     "name": "stderr",
     "output_type": "stream",
     "text": [
      "/var/folders/dz/_p8v_6m53zq20_5b48kt_dp00000gn/T/ipykernel_65514/1370389507.py:3: FutureWarning: The frame.append method is deprecated and will be removed from pandas in a future version. Use pandas.concat instead.\n",
      "  new_df = new_df_1.append(new_df_2, ignore_index=True)\n"
     ]
    },
    {
     "data": {
      "text/html": [
       "<div>\n",
       "<style scoped>\n",
       "    .dataframe tbody tr th:only-of-type {\n",
       "        vertical-align: middle;\n",
       "    }\n",
       "\n",
       "    .dataframe tbody tr th {\n",
       "        vertical-align: top;\n",
       "    }\n",
       "\n",
       "    .dataframe thead th {\n",
       "        text-align: right;\n",
       "    }\n",
       "</style>\n",
       "<table border=\"1\" class=\"dataframe\">\n",
       "  <thead>\n",
       "    <tr style=\"text-align: right;\">\n",
       "      <th></th>\n",
       "      <th># Fc5.</th>\n",
       "      <th>Fc3.</th>\n",
       "      <th>Fc1.</th>\n",
       "      <th>Fcz.</th>\n",
       "      <th>Fc2.</th>\n",
       "      <th>Fc4.</th>\n",
       "      <th>Fc6.</th>\n",
       "      <th>C5..</th>\n",
       "      <th>C3..</th>\n",
       "      <th>C1..</th>\n",
       "      <th>...</th>\n",
       "      <th>Po7.</th>\n",
       "      <th>Po3.</th>\n",
       "      <th>Poz.</th>\n",
       "      <th>Po4.</th>\n",
       "      <th>Po8.</th>\n",
       "      <th>O1..</th>\n",
       "      <th>Oz..</th>\n",
       "      <th>O2..</th>\n",
       "      <th>Iz..</th>\n",
       "      <th>Class</th>\n",
       "    </tr>\n",
       "  </thead>\n",
       "  <tbody>\n",
       "    <tr>\n",
       "      <th>14995</th>\n",
       "      <td>3.820816e-05</td>\n",
       "      <td>0.000034</td>\n",
       "      <td>0.000031</td>\n",
       "      <td>0.000030</td>\n",
       "      <td>0.000029</td>\n",
       "      <td>0.000029</td>\n",
       "      <td>0.000028</td>\n",
       "      <td>0.000027</td>\n",
       "      <td>0.000026</td>\n",
       "      <td>0.000027</td>\n",
       "      <td>...</td>\n",
       "      <td>0.000026</td>\n",
       "      <td>0.000027</td>\n",
       "      <td>0.000028</td>\n",
       "      <td>0.000030</td>\n",
       "      <td>0.000031</td>\n",
       "      <td>0.000032</td>\n",
       "      <td>0.000034</td>\n",
       "      <td>0.000035</td>\n",
       "      <td>0.000037</td>\n",
       "      <td>1</td>\n",
       "    </tr>\n",
       "    <tr>\n",
       "      <th>14996</th>\n",
       "      <td>-1.997158e-05</td>\n",
       "      <td>-0.000018</td>\n",
       "      <td>-0.000016</td>\n",
       "      <td>-0.000016</td>\n",
       "      <td>-0.000015</td>\n",
       "      <td>-0.000015</td>\n",
       "      <td>-0.000015</td>\n",
       "      <td>-0.000015</td>\n",
       "      <td>-0.000014</td>\n",
       "      <td>-0.000015</td>\n",
       "      <td>...</td>\n",
       "      <td>-0.000011</td>\n",
       "      <td>-0.000011</td>\n",
       "      <td>-0.000013</td>\n",
       "      <td>-0.000014</td>\n",
       "      <td>-0.000015</td>\n",
       "      <td>-0.000016</td>\n",
       "      <td>-0.000017</td>\n",
       "      <td>-0.000018</td>\n",
       "      <td>-0.000019</td>\n",
       "      <td>1</td>\n",
       "    </tr>\n",
       "    <tr>\n",
       "      <th>14997</th>\n",
       "      <td>-9.830572e-07</td>\n",
       "      <td>-0.000019</td>\n",
       "      <td>-0.000032</td>\n",
       "      <td>-0.000038</td>\n",
       "      <td>-0.000047</td>\n",
       "      <td>-0.000049</td>\n",
       "      <td>-0.000054</td>\n",
       "      <td>-0.000059</td>\n",
       "      <td>-0.000065</td>\n",
       "      <td>-0.000071</td>\n",
       "      <td>...</td>\n",
       "      <td>-0.000032</td>\n",
       "      <td>-0.000031</td>\n",
       "      <td>-0.000025</td>\n",
       "      <td>-0.000020</td>\n",
       "      <td>-0.000016</td>\n",
       "      <td>-0.000012</td>\n",
       "      <td>-0.000010</td>\n",
       "      <td>-0.000007</td>\n",
       "      <td>-0.000004</td>\n",
       "      <td>1</td>\n",
       "    </tr>\n",
       "    <tr>\n",
       "      <th>14998</th>\n",
       "      <td>6.270973e-05</td>\n",
       "      <td>0.000056</td>\n",
       "      <td>0.000051</td>\n",
       "      <td>0.000049</td>\n",
       "      <td>0.000046</td>\n",
       "      <td>0.000045</td>\n",
       "      <td>0.000043</td>\n",
       "      <td>0.000041</td>\n",
       "      <td>0.000039</td>\n",
       "      <td>0.000039</td>\n",
       "      <td>...</td>\n",
       "      <td>0.000053</td>\n",
       "      <td>0.000055</td>\n",
       "      <td>0.000055</td>\n",
       "      <td>0.000056</td>\n",
       "      <td>0.000057</td>\n",
       "      <td>0.000058</td>\n",
       "      <td>0.000059</td>\n",
       "      <td>0.000060</td>\n",
       "      <td>0.000062</td>\n",
       "      <td>2</td>\n",
       "    </tr>\n",
       "    <tr>\n",
       "      <th>14999</th>\n",
       "      <td>-4.861739e-05</td>\n",
       "      <td>-0.000046</td>\n",
       "      <td>-0.000044</td>\n",
       "      <td>-0.000043</td>\n",
       "      <td>-0.000042</td>\n",
       "      <td>-0.000042</td>\n",
       "      <td>-0.000041</td>\n",
       "      <td>-0.000040</td>\n",
       "      <td>-0.000040</td>\n",
       "      <td>-0.000040</td>\n",
       "      <td>...</td>\n",
       "      <td>-0.000045</td>\n",
       "      <td>-0.000045</td>\n",
       "      <td>-0.000046</td>\n",
       "      <td>-0.000046</td>\n",
       "      <td>-0.000046</td>\n",
       "      <td>-0.000047</td>\n",
       "      <td>-0.000047</td>\n",
       "      <td>-0.000048</td>\n",
       "      <td>-0.000048</td>\n",
       "      <td>0</td>\n",
       "    </tr>\n",
       "  </tbody>\n",
       "</table>\n",
       "<p>5 rows × 65 columns</p>\n",
       "</div>"
      ],
      "text/plain": [
       "             # Fc5.      Fc3.      Fc1.      Fcz.      Fc2.      Fc4.  \\\n",
       "14995  3.820816e-05  0.000034  0.000031  0.000030  0.000029  0.000029   \n",
       "14996 -1.997158e-05 -0.000018 -0.000016 -0.000016 -0.000015 -0.000015   \n",
       "14997 -9.830572e-07 -0.000019 -0.000032 -0.000038 -0.000047 -0.000049   \n",
       "14998  6.270973e-05  0.000056  0.000051  0.000049  0.000046  0.000045   \n",
       "14999 -4.861739e-05 -0.000046 -0.000044 -0.000043 -0.000042 -0.000042   \n",
       "\n",
       "           Fc6.      C5..      C3..      C1..  ...      Po7.      Po3.  \\\n",
       "14995  0.000028  0.000027  0.000026  0.000027  ...  0.000026  0.000027   \n",
       "14996 -0.000015 -0.000015 -0.000014 -0.000015  ... -0.000011 -0.000011   \n",
       "14997 -0.000054 -0.000059 -0.000065 -0.000071  ... -0.000032 -0.000031   \n",
       "14998  0.000043  0.000041  0.000039  0.000039  ...  0.000053  0.000055   \n",
       "14999 -0.000041 -0.000040 -0.000040 -0.000040  ... -0.000045 -0.000045   \n",
       "\n",
       "           Poz.      Po4.      Po8.      O1..      Oz..      O2..      Iz..  \\\n",
       "14995  0.000028  0.000030  0.000031  0.000032  0.000034  0.000035  0.000037   \n",
       "14996 -0.000013 -0.000014 -0.000015 -0.000016 -0.000017 -0.000018 -0.000019   \n",
       "14997 -0.000025 -0.000020 -0.000016 -0.000012 -0.000010 -0.000007 -0.000004   \n",
       "14998  0.000055  0.000056  0.000057  0.000058  0.000059  0.000060  0.000062   \n",
       "14999 -0.000046 -0.000046 -0.000046 -0.000047 -0.000047 -0.000048 -0.000048   \n",
       "\n",
       "       Class  \n",
       "14995      1  \n",
       "14996      1  \n",
       "14997      1  \n",
       "14998      2  \n",
       "14999      0  \n",
       "\n",
       "[5 rows x 65 columns]"
      ]
     },
     "execution_count": 18,
     "metadata": {},
     "output_type": "execute_result"
    }
   ],
   "source": [
    "new_df_1 = df_subset.query(\"Class == Cluster\").sample(n=13000)\n",
    "new_df_2 = df_subset.query(\"Class != Cluster\").sample(n=2000)\n",
    "new_df = new_df_1.append(new_df_2, ignore_index=True)\n",
    "new_df = new_df.sample(frac=1).reset_index(drop=True)\n",
    "del new_df['Cluster']\n",
    "new_df.tail()"
   ]
  },
  {
   "cell_type": "code",
   "execution_count": 19,
   "metadata": {
    "id": "GUyYZkTuf3xr"
   },
   "outputs": [],
   "source": [
    "X = new_df.drop(['Class'], axis=1)\n",
    "y = new_df['Class']"
   ]
  },
  {
   "cell_type": "code",
   "execution_count": 20,
   "metadata": {
    "id": "X11A9cMs8dlS"
   },
   "outputs": [],
   "source": [
    "from sklearn.model_selection import train_test_split\n",
    "X_train, X_test, y_train, y_test = train_test_split(X, y, test_size = 0.2, random_state = 0)"
   ]
  },
  {
   "cell_type": "code",
   "execution_count": 21,
   "metadata": {
    "colab": {
     "base_uri": "https://localhost:8080/"
    },
    "id": "m_ELHNZI8hh4",
    "outputId": "a2fa6dd8-6c7d-4347-cb96-347d82eb5ac7"
   },
   "outputs": [
    {
     "data": {
      "text/plain": [
       "((12000, 64), (3000, 64))"
      ]
     },
     "execution_count": 21,
     "metadata": {},
     "output_type": "execute_result"
    }
   ],
   "source": [
    "X_train.shape, X_test.shape"
   ]
  },
  {
   "cell_type": "code",
   "execution_count": 22,
   "metadata": {
    "id": "LyYVG-yd8mno"
   },
   "outputs": [],
   "source": [
    "cols = X_train.columns\n",
    "from sklearn.preprocessing import StandardScaler\n",
    "scaler = StandardScaler()\n",
    "X_train = scaler.fit_transform(X_train)\n",
    "X_test = scaler.transform(X_test)\n",
    "X_train = pd.DataFrame(X_train, columns=[cols])\n",
    "X_test = pd.DataFrame(X_test, columns=[cols])"
   ]
  },
  {
   "cell_type": "code",
   "execution_count": 23,
   "metadata": {
    "colab": {
     "base_uri": "https://localhost:8080/",
     "height": 394
    },
    "id": "IErbjMMp85ol",
    "outputId": "3a5e1a71-6168-458c-bc3f-e088d3aa320d"
   },
   "outputs": [
    {
     "data": {
      "text/html": [
       "<div>\n",
       "<style scoped>\n",
       "    .dataframe tbody tr th:only-of-type {\n",
       "        vertical-align: middle;\n",
       "    }\n",
       "\n",
       "    .dataframe tbody tr th {\n",
       "        vertical-align: top;\n",
       "    }\n",
       "\n",
       "    .dataframe thead tr th {\n",
       "        text-align: left;\n",
       "    }\n",
       "</style>\n",
       "<table border=\"1\" class=\"dataframe\">\n",
       "  <thead>\n",
       "    <tr>\n",
       "      <th></th>\n",
       "      <th># Fc5.</th>\n",
       "      <th>Fc3.</th>\n",
       "      <th>Fc1.</th>\n",
       "      <th>Fcz.</th>\n",
       "      <th>Fc2.</th>\n",
       "      <th>Fc4.</th>\n",
       "      <th>Fc6.</th>\n",
       "      <th>C5..</th>\n",
       "      <th>C3..</th>\n",
       "      <th>C1..</th>\n",
       "      <th>...</th>\n",
       "      <th>P8..</th>\n",
       "      <th>Po7.</th>\n",
       "      <th>Po3.</th>\n",
       "      <th>Poz.</th>\n",
       "      <th>Po4.</th>\n",
       "      <th>Po8.</th>\n",
       "      <th>O1..</th>\n",
       "      <th>Oz..</th>\n",
       "      <th>O2..</th>\n",
       "      <th>Iz..</th>\n",
       "    </tr>\n",
       "  </thead>\n",
       "  <tbody>\n",
       "    <tr>\n",
       "      <th>count</th>\n",
       "      <td>1.200000e+04</td>\n",
       "      <td>1.200000e+04</td>\n",
       "      <td>1.200000e+04</td>\n",
       "      <td>1.200000e+04</td>\n",
       "      <td>12000.000000</td>\n",
       "      <td>1.200000e+04</td>\n",
       "      <td>1.200000e+04</td>\n",
       "      <td>1.200000e+04</td>\n",
       "      <td>1.200000e+04</td>\n",
       "      <td>1.200000e+04</td>\n",
       "      <td>...</td>\n",
       "      <td>1.200000e+04</td>\n",
       "      <td>1.200000e+04</td>\n",
       "      <td>1.200000e+04</td>\n",
       "      <td>1.200000e+04</td>\n",
       "      <td>1.200000e+04</td>\n",
       "      <td>1.200000e+04</td>\n",
       "      <td>1.200000e+04</td>\n",
       "      <td>1.200000e+04</td>\n",
       "      <td>1.200000e+04</td>\n",
       "      <td>1.200000e+04</td>\n",
       "    </tr>\n",
       "    <tr>\n",
       "      <th>mean</th>\n",
       "      <td>1.983598e-17</td>\n",
       "      <td>-1.776357e-18</td>\n",
       "      <td>1.006602e-17</td>\n",
       "      <td>1.125026e-17</td>\n",
       "      <td>0.000000</td>\n",
       "      <td>2.190840e-17</td>\n",
       "      <td>-8.289665e-18</td>\n",
       "      <td>1.006602e-17</td>\n",
       "      <td>-2.368476e-18</td>\n",
       "      <td>1.125026e-17</td>\n",
       "      <td>...</td>\n",
       "      <td>9.473903e-18</td>\n",
       "      <td>1.480297e-17</td>\n",
       "      <td>-2.131628e-17</td>\n",
       "      <td>-2.072416e-17</td>\n",
       "      <td>1.776357e-18</td>\n",
       "      <td>4.736952e-18</td>\n",
       "      <td>-2.901383e-17</td>\n",
       "      <td>1.184238e-17</td>\n",
       "      <td>8.881784e-18</td>\n",
       "      <td>-2.368476e-18</td>\n",
       "    </tr>\n",
       "    <tr>\n",
       "      <th>std</th>\n",
       "      <td>1.000042e+00</td>\n",
       "      <td>1.000042e+00</td>\n",
       "      <td>1.000042e+00</td>\n",
       "      <td>1.000042e+00</td>\n",
       "      <td>1.000042</td>\n",
       "      <td>1.000042e+00</td>\n",
       "      <td>1.000042e+00</td>\n",
       "      <td>1.000042e+00</td>\n",
       "      <td>1.000042e+00</td>\n",
       "      <td>1.000042e+00</td>\n",
       "      <td>...</td>\n",
       "      <td>1.000042e+00</td>\n",
       "      <td>1.000042e+00</td>\n",
       "      <td>1.000042e+00</td>\n",
       "      <td>1.000042e+00</td>\n",
       "      <td>1.000042e+00</td>\n",
       "      <td>1.000042e+00</td>\n",
       "      <td>1.000042e+00</td>\n",
       "      <td>1.000042e+00</td>\n",
       "      <td>1.000042e+00</td>\n",
       "      <td>1.000042e+00</td>\n",
       "    </tr>\n",
       "    <tr>\n",
       "      <th>min</th>\n",
       "      <td>-1.043846e+01</td>\n",
       "      <td>-1.087840e+01</td>\n",
       "      <td>-1.102826e+01</td>\n",
       "      <td>-1.102749e+01</td>\n",
       "      <td>-10.985039</td>\n",
       "      <td>-1.093225e+01</td>\n",
       "      <td>-1.085694e+01</td>\n",
       "      <td>-1.074745e+01</td>\n",
       "      <td>-1.062047e+01</td>\n",
       "      <td>-1.062416e+01</td>\n",
       "      <td>...</td>\n",
       "      <td>-1.150129e+01</td>\n",
       "      <td>-1.131946e+01</td>\n",
       "      <td>-1.114774e+01</td>\n",
       "      <td>-1.116389e+01</td>\n",
       "      <td>-1.111924e+01</td>\n",
       "      <td>-1.102444e+01</td>\n",
       "      <td>-1.093807e+01</td>\n",
       "      <td>-1.081388e+01</td>\n",
       "      <td>-1.069143e+01</td>\n",
       "      <td>-1.055798e+01</td>\n",
       "    </tr>\n",
       "    <tr>\n",
       "      <th>25%</th>\n",
       "      <td>-6.436913e-01</td>\n",
       "      <td>-6.473615e-01</td>\n",
       "      <td>-6.412621e-01</td>\n",
       "      <td>-6.402222e-01</td>\n",
       "      <td>-0.638830</td>\n",
       "      <td>-6.410092e-01</td>\n",
       "      <td>-6.423665e-01</td>\n",
       "      <td>-6.371086e-01</td>\n",
       "      <td>-6.361928e-01</td>\n",
       "      <td>-6.406402e-01</td>\n",
       "      <td>...</td>\n",
       "      <td>-6.479638e-01</td>\n",
       "      <td>-6.495303e-01</td>\n",
       "      <td>-6.501806e-01</td>\n",
       "      <td>-6.520939e-01</td>\n",
       "      <td>-6.493545e-01</td>\n",
       "      <td>-6.475648e-01</td>\n",
       "      <td>-6.473771e-01</td>\n",
       "      <td>-6.452299e-01</td>\n",
       "      <td>-6.440527e-01</td>\n",
       "      <td>-6.457343e-01</td>\n",
       "    </tr>\n",
       "    <tr>\n",
       "      <th>50%</th>\n",
       "      <td>-2.665890e-02</td>\n",
       "      <td>-2.184256e-02</td>\n",
       "      <td>-1.734512e-02</td>\n",
       "      <td>-1.459724e-02</td>\n",
       "      <td>-0.015235</td>\n",
       "      <td>-1.627090e-02</td>\n",
       "      <td>-1.808531e-02</td>\n",
       "      <td>-2.137485e-02</td>\n",
       "      <td>-1.763240e-02</td>\n",
       "      <td>-1.771453e-02</td>\n",
       "      <td>...</td>\n",
       "      <td>-1.723264e-02</td>\n",
       "      <td>-1.642961e-02</td>\n",
       "      <td>-1.732038e-02</td>\n",
       "      <td>-1.819389e-02</td>\n",
       "      <td>-2.089661e-02</td>\n",
       "      <td>-2.240764e-02</td>\n",
       "      <td>-2.417275e-02</td>\n",
       "      <td>-2.534066e-02</td>\n",
       "      <td>-2.658908e-02</td>\n",
       "      <td>-2.760046e-02</td>\n",
       "    </tr>\n",
       "    <tr>\n",
       "      <th>75%</th>\n",
       "      <td>6.174203e-01</td>\n",
       "      <td>6.255300e-01</td>\n",
       "      <td>6.225589e-01</td>\n",
       "      <td>6.262806e-01</td>\n",
       "      <td>0.630610</td>\n",
       "      <td>6.303304e-01</td>\n",
       "      <td>6.305834e-01</td>\n",
       "      <td>6.324311e-01</td>\n",
       "      <td>6.308118e-01</td>\n",
       "      <td>6.346850e-01</td>\n",
       "      <td>...</td>\n",
       "      <td>6.254475e-01</td>\n",
       "      <td>6.240971e-01</td>\n",
       "      <td>6.231002e-01</td>\n",
       "      <td>6.247669e-01</td>\n",
       "      <td>6.229951e-01</td>\n",
       "      <td>6.244911e-01</td>\n",
       "      <td>6.234267e-01</td>\n",
       "      <td>6.219128e-01</td>\n",
       "      <td>6.206431e-01</td>\n",
       "      <td>6.192183e-01</td>\n",
       "    </tr>\n",
       "    <tr>\n",
       "      <th>max</th>\n",
       "      <td>7.606306e+00</td>\n",
       "      <td>7.725842e+00</td>\n",
       "      <td>7.686570e+00</td>\n",
       "      <td>7.599913e+00</td>\n",
       "      <td>7.468290</td>\n",
       "      <td>7.390177e+00</td>\n",
       "      <td>7.281424e+00</td>\n",
       "      <td>7.134838e+00</td>\n",
       "      <td>6.982368e+00</td>\n",
       "      <td>6.975710e+00</td>\n",
       "      <td>...</td>\n",
       "      <td>8.178948e+00</td>\n",
       "      <td>7.986401e+00</td>\n",
       "      <td>7.815928e+00</td>\n",
       "      <td>7.948845e+00</td>\n",
       "      <td>7.992066e+00</td>\n",
       "      <td>7.952773e+00</td>\n",
       "      <td>7.930804e+00</td>\n",
       "      <td>7.835465e+00</td>\n",
       "      <td>7.753385e+00</td>\n",
       "      <td>7.675242e+00</td>\n",
       "    </tr>\n",
       "  </tbody>\n",
       "</table>\n",
       "<p>8 rows × 64 columns</p>\n",
       "</div>"
      ],
      "text/plain": [
       "             # Fc5.          Fc3.          Fc1.          Fcz.          Fc2.  \\\n",
       "count  1.200000e+04  1.200000e+04  1.200000e+04  1.200000e+04  12000.000000   \n",
       "mean   1.983598e-17 -1.776357e-18  1.006602e-17  1.125026e-17      0.000000   \n",
       "std    1.000042e+00  1.000042e+00  1.000042e+00  1.000042e+00      1.000042   \n",
       "min   -1.043846e+01 -1.087840e+01 -1.102826e+01 -1.102749e+01    -10.985039   \n",
       "25%   -6.436913e-01 -6.473615e-01 -6.412621e-01 -6.402222e-01     -0.638830   \n",
       "50%   -2.665890e-02 -2.184256e-02 -1.734512e-02 -1.459724e-02     -0.015235   \n",
       "75%    6.174203e-01  6.255300e-01  6.225589e-01  6.262806e-01      0.630610   \n",
       "max    7.606306e+00  7.725842e+00  7.686570e+00  7.599913e+00      7.468290   \n",
       "\n",
       "               Fc4.          Fc6.          C5..          C3..          C1..  \\\n",
       "count  1.200000e+04  1.200000e+04  1.200000e+04  1.200000e+04  1.200000e+04   \n",
       "mean   2.190840e-17 -8.289665e-18  1.006602e-17 -2.368476e-18  1.125026e-17   \n",
       "std    1.000042e+00  1.000042e+00  1.000042e+00  1.000042e+00  1.000042e+00   \n",
       "min   -1.093225e+01 -1.085694e+01 -1.074745e+01 -1.062047e+01 -1.062416e+01   \n",
       "25%   -6.410092e-01 -6.423665e-01 -6.371086e-01 -6.361928e-01 -6.406402e-01   \n",
       "50%   -1.627090e-02 -1.808531e-02 -2.137485e-02 -1.763240e-02 -1.771453e-02   \n",
       "75%    6.303304e-01  6.305834e-01  6.324311e-01  6.308118e-01  6.346850e-01   \n",
       "max    7.390177e+00  7.281424e+00  7.134838e+00  6.982368e+00  6.975710e+00   \n",
       "\n",
       "       ...          P8..          Po7.          Po3.          Poz.  \\\n",
       "count  ...  1.200000e+04  1.200000e+04  1.200000e+04  1.200000e+04   \n",
       "mean   ...  9.473903e-18  1.480297e-17 -2.131628e-17 -2.072416e-17   \n",
       "std    ...  1.000042e+00  1.000042e+00  1.000042e+00  1.000042e+00   \n",
       "min    ... -1.150129e+01 -1.131946e+01 -1.114774e+01 -1.116389e+01   \n",
       "25%    ... -6.479638e-01 -6.495303e-01 -6.501806e-01 -6.520939e-01   \n",
       "50%    ... -1.723264e-02 -1.642961e-02 -1.732038e-02 -1.819389e-02   \n",
       "75%    ...  6.254475e-01  6.240971e-01  6.231002e-01  6.247669e-01   \n",
       "max    ...  8.178948e+00  7.986401e+00  7.815928e+00  7.948845e+00   \n",
       "\n",
       "               Po4.          Po8.          O1..          Oz..          O2..  \\\n",
       "count  1.200000e+04  1.200000e+04  1.200000e+04  1.200000e+04  1.200000e+04   \n",
       "mean   1.776357e-18  4.736952e-18 -2.901383e-17  1.184238e-17  8.881784e-18   \n",
       "std    1.000042e+00  1.000042e+00  1.000042e+00  1.000042e+00  1.000042e+00   \n",
       "min   -1.111924e+01 -1.102444e+01 -1.093807e+01 -1.081388e+01 -1.069143e+01   \n",
       "25%   -6.493545e-01 -6.475648e-01 -6.473771e-01 -6.452299e-01 -6.440527e-01   \n",
       "50%   -2.089661e-02 -2.240764e-02 -2.417275e-02 -2.534066e-02 -2.658908e-02   \n",
       "75%    6.229951e-01  6.244911e-01  6.234267e-01  6.219128e-01  6.206431e-01   \n",
       "max    7.992066e+00  7.952773e+00  7.930804e+00  7.835465e+00  7.753385e+00   \n",
       "\n",
       "               Iz..  \n",
       "count  1.200000e+04  \n",
       "mean  -2.368476e-18  \n",
       "std    1.000042e+00  \n",
       "min   -1.055798e+01  \n",
       "25%   -6.457343e-01  \n",
       "50%   -2.760046e-02  \n",
       "75%    6.192183e-01  \n",
       "max    7.675242e+00  \n",
       "\n",
       "[8 rows x 64 columns]"
      ]
     },
     "execution_count": 23,
     "metadata": {},
     "output_type": "execute_result"
    }
   ],
   "source": [
    "X_train.describe()"
   ]
  },
  {
   "cell_type": "code",
   "execution_count": 24,
   "metadata": {
    "colab": {
     "base_uri": "https://localhost:8080/"
    },
    "id": "ihd9Zfn99F0h",
    "outputId": "2a6fd947-bc1f-423a-82ab-9d48d15cfb44"
   },
   "outputs": [
    {
     "name": "stdout",
     "output_type": "stream",
     "text": [
      "Model accuracy score with default hyperparameters: 0.8613\n"
     ]
    }
   ],
   "source": [
    "# import SVC classifier\n",
    "from sklearn.svm import SVC\n",
    "# import metrics to compute accuracy\n",
    "from sklearn.metrics import accuracy_score\n",
    "# instantiate classifier with default hyperparameters\n",
    "svc=SVC() \n",
    "# fit classifier to training set\n",
    "svc.fit(X_train,y_train)\n",
    "# make predictions on test set\n",
    "y_pred=svc.predict(X_test)\n",
    "# compute and print accuracy score\n",
    "print('Model accuracy score with default hyperparameters: {0:0.4f}'. format(accuracy_score(y_test, y_pred)))"
   ]
  },
  {
   "cell_type": "code",
   "execution_count": null,
   "metadata": {
    "id": "bLDCDitNeBr0"
   },
   "outputs": [],
   "source": []
  },
  {
   "cell_type": "code",
   "execution_count": 26,
   "metadata": {
    "colab": {
     "base_uri": "https://localhost:8080/"
    },
    "id": "_BQp3G3aeI9t",
    "outputId": "4b038a8e-4fac-4ae7-8fcf-268f04cc838b"
   },
   "outputs": [
    {
     "name": "stdout",
     "output_type": "stream",
     "text": [
      "Model accuracy score with default hyperparameters: 0.8610\n"
     ]
    }
   ],
   "source": [
    "from sklearn.decomposition import PCA\n",
    "pca = PCA(n_components=4)\n",
    "X_train_pca = pca.fit_transform(X_train)\n",
    "X_test_pca = pca.transform(X_test)\n",
    "svc=SVC() \n",
    "# fit classifier to training set\n",
    "svc.fit(X_train_pca,y_train)\n",
    "# make predictions on test set\n",
    "y_pred=svc.predict(X_test_pca)\n",
    "# compute and print accuracy score\n",
    "print('Model accuracy score with default hyperparameters: {0:0.4f}'. format(accuracy_score(y_test, y_pred)))"
   ]
  },
  {
   "cell_type": "code",
   "execution_count": 27,
   "metadata": {
    "id": "tbPrgc6Dt_dS"
   },
   "outputs": [
    {
     "data": {
      "text/html": [
       "<style>#sk-container-id-2 {color: black;background-color: white;}#sk-container-id-2 pre{padding: 0;}#sk-container-id-2 div.sk-toggleable {background-color: white;}#sk-container-id-2 label.sk-toggleable__label {cursor: pointer;display: block;width: 100%;margin-bottom: 0;padding: 0.3em;box-sizing: border-box;text-align: center;}#sk-container-id-2 label.sk-toggleable__label-arrow:before {content: \"▸\";float: left;margin-right: 0.25em;color: #696969;}#sk-container-id-2 label.sk-toggleable__label-arrow:hover:before {color: black;}#sk-container-id-2 div.sk-estimator:hover label.sk-toggleable__label-arrow:before {color: black;}#sk-container-id-2 div.sk-toggleable__content {max-height: 0;max-width: 0;overflow: hidden;text-align: left;background-color: #f0f8ff;}#sk-container-id-2 div.sk-toggleable__content pre {margin: 0.2em;color: black;border-radius: 0.25em;background-color: #f0f8ff;}#sk-container-id-2 input.sk-toggleable__control:checked~div.sk-toggleable__content {max-height: 200px;max-width: 100%;overflow: auto;}#sk-container-id-2 input.sk-toggleable__control:checked~label.sk-toggleable__label-arrow:before {content: \"▾\";}#sk-container-id-2 div.sk-estimator input.sk-toggleable__control:checked~label.sk-toggleable__label {background-color: #d4ebff;}#sk-container-id-2 div.sk-label input.sk-toggleable__control:checked~label.sk-toggleable__label {background-color: #d4ebff;}#sk-container-id-2 input.sk-hidden--visually {border: 0;clip: rect(1px 1px 1px 1px);clip: rect(1px, 1px, 1px, 1px);height: 1px;margin: -1px;overflow: hidden;padding: 0;position: absolute;width: 1px;}#sk-container-id-2 div.sk-estimator {font-family: monospace;background-color: #f0f8ff;border: 1px dotted black;border-radius: 0.25em;box-sizing: border-box;margin-bottom: 0.5em;}#sk-container-id-2 div.sk-estimator:hover {background-color: #d4ebff;}#sk-container-id-2 div.sk-parallel-item::after {content: \"\";width: 100%;border-bottom: 1px solid gray;flex-grow: 1;}#sk-container-id-2 div.sk-label:hover label.sk-toggleable__label {background-color: #d4ebff;}#sk-container-id-2 div.sk-serial::before {content: \"\";position: absolute;border-left: 1px solid gray;box-sizing: border-box;top: 0;bottom: 0;left: 50%;z-index: 0;}#sk-container-id-2 div.sk-serial {display: flex;flex-direction: column;align-items: center;background-color: white;padding-right: 0.2em;padding-left: 0.2em;position: relative;}#sk-container-id-2 div.sk-item {position: relative;z-index: 1;}#sk-container-id-2 div.sk-parallel {display: flex;align-items: stretch;justify-content: center;background-color: white;position: relative;}#sk-container-id-2 div.sk-item::before, #sk-container-id-2 div.sk-parallel-item::before {content: \"\";position: absolute;border-left: 1px solid gray;box-sizing: border-box;top: 0;bottom: 0;left: 50%;z-index: -1;}#sk-container-id-2 div.sk-parallel-item {display: flex;flex-direction: column;z-index: 1;position: relative;background-color: white;}#sk-container-id-2 div.sk-parallel-item:first-child::after {align-self: flex-end;width: 50%;}#sk-container-id-2 div.sk-parallel-item:last-child::after {align-self: flex-start;width: 50%;}#sk-container-id-2 div.sk-parallel-item:only-child::after {width: 0;}#sk-container-id-2 div.sk-dashed-wrapped {border: 1px dashed gray;margin: 0 0.4em 0.5em 0.4em;box-sizing: border-box;padding-bottom: 0.4em;background-color: white;}#sk-container-id-2 div.sk-label label {font-family: monospace;font-weight: bold;display: inline-block;line-height: 1.2em;}#sk-container-id-2 div.sk-label-container {text-align: center;}#sk-container-id-2 div.sk-container {/* jupyter's `normalize.less` sets `[hidden] { display: none; }` but bootstrap.min.css set `[hidden] { display: none !important; }` so we also need the `!important` here to be able to override the default hidden behavior on the sphinx rendered scikit-learn.org. See: https://github.com/scikit-learn/scikit-learn/issues/21755 */display: inline-block !important;position: relative;}#sk-container-id-2 div.sk-text-repr-fallback {display: none;}</style><div id=\"sk-container-id-2\" class=\"sk-top-container\"><div class=\"sk-text-repr-fallback\"><pre>GridSearchCV(cv=5, estimator=SVC(), param_grid=[{&#x27;C&#x27;: [1, 10, 100, 1000]}],\n",
       "             scoring=&#x27;accuracy&#x27;)</pre><b>In a Jupyter environment, please rerun this cell to show the HTML representation or trust the notebook. <br />On GitHub, the HTML representation is unable to render, please try loading this page with nbviewer.org.</b></div><div class=\"sk-container\" hidden><div class=\"sk-item sk-dashed-wrapped\"><div class=\"sk-label-container\"><div class=\"sk-label sk-toggleable\"><input class=\"sk-toggleable__control sk-hidden--visually\" id=\"sk-estimator-id-2\" type=\"checkbox\" ><label for=\"sk-estimator-id-2\" class=\"sk-toggleable__label sk-toggleable__label-arrow\">GridSearchCV</label><div class=\"sk-toggleable__content\"><pre>GridSearchCV(cv=5, estimator=SVC(), param_grid=[{&#x27;C&#x27;: [1, 10, 100, 1000]}],\n",
       "             scoring=&#x27;accuracy&#x27;)</pre></div></div></div><div class=\"sk-parallel\"><div class=\"sk-parallel-item\"><div class=\"sk-item\"><div class=\"sk-label-container\"><div class=\"sk-label sk-toggleable\"><input class=\"sk-toggleable__control sk-hidden--visually\" id=\"sk-estimator-id-3\" type=\"checkbox\" ><label for=\"sk-estimator-id-3\" class=\"sk-toggleable__label sk-toggleable__label-arrow\">estimator: SVC</label><div class=\"sk-toggleable__content\"><pre>SVC()</pre></div></div></div><div class=\"sk-serial\"><div class=\"sk-item\"><div class=\"sk-estimator sk-toggleable\"><input class=\"sk-toggleable__control sk-hidden--visually\" id=\"sk-estimator-id-4\" type=\"checkbox\" ><label for=\"sk-estimator-id-4\" class=\"sk-toggleable__label sk-toggleable__label-arrow\">SVC</label><div class=\"sk-toggleable__content\"><pre>SVC()</pre></div></div></div></div></div></div></div></div></div></div>"
      ],
      "text/plain": [
       "GridSearchCV(cv=5, estimator=SVC(), param_grid=[{'C': [1, 10, 100, 1000]}],\n",
       "             scoring='accuracy')"
      ]
     },
     "execution_count": 27,
     "metadata": {},
     "output_type": "execute_result"
    }
   ],
   "source": [
    "from sklearn.model_selection import GridSearchCV\n",
    "from sklearn.svm import SVC\n",
    "# import metrics to compute accuracy\n",
    "from sklearn.metrics import accuracy_score\n",
    "# instantiate classifier with default hyperparameters with kernel=rbf, C=1.0 and gamma=auto\n",
    "svc=SVC() \n",
    "# declare parameters for hyperparameter tuning\n",
    "parameters = [ {'C':[1, 10, 100, 1000]}]\n",
    "grid_search = GridSearchCV(estimator = svc,  \n",
    "                           param_grid = parameters,\n",
    "                           scoring = 'accuracy',\n",
    "                           cv = 5,\n",
    "                           verbose=0)\n",
    "grid_search.fit(X_train_pca, y_train)"
   ]
  },
  {
   "cell_type": "code",
   "execution_count": 29,
   "metadata": {
    "id": "N0euYFVKuCSv"
   },
   "outputs": [
    {
     "name": "stdout",
     "output_type": "stream",
     "text": [
      "GridSearch CV best score : 0.8568\n",
      "\n",
      "\n",
      "Parameters that give the best results : \n",
      "\n",
      " {'C': 1}\n",
      "\n",
      "\n",
      "Estimator that was chosen by the search : \n",
      "\n",
      " SVC(C=1)\n",
      "GridSearch CV score on test set: 0.8610\n"
     ]
    }
   ],
   "source": [
    "# examine the best model\n",
    "# best score achieved during the GridSearchCV\n",
    "print('GridSearch CV best score : {:.4f}\\n\\n'.format(grid_search.best_score_))\n",
    "# print parameters that give the best results\n",
    "print('Parameters that give the best results :','\\n\\n', (grid_search.best_params_))\n",
    "# print estimator that was chosen by the GridSearch\n",
    "print('\\n\\nEstimator that was chosen by the search :','\\n\\n', (grid_search.best_estimator_))\n",
    "# calculate GridSearch CV score on test set\n",
    "print('GridSearch CV score on test set: {0:0.4f}'.format(grid_search.score(X_test_pca, y_test)))"
   ]
  },
  {
   "cell_type": "code",
   "execution_count": null,
   "metadata": {},
   "outputs": [],
   "source": []
  }
 ],
 "metadata": {
  "colab": {
   "name": "DSP_Project.ipynb",
   "provenance": []
  },
  "kernelspec": {
   "display_name": "Python 3 (ipykernel)",
   "language": "python",
   "name": "python3"
  },
  "language_info": {
   "codemirror_mode": {
    "name": "ipython",
    "version": 3
   },
   "file_extension": ".py",
   "mimetype": "text/x-python",
   "name": "python",
   "nbconvert_exporter": "python",
   "pygments_lexer": "ipython3",
   "version": "3.10.2"
  }
 },
 "nbformat": 4,
 "nbformat_minor": 1
}
